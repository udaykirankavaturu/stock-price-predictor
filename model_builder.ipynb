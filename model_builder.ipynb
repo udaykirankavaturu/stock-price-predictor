{
 "cells": [
  {
   "cell_type": "code",
   "execution_count": 59,
   "metadata": {},
   "outputs": [],
   "source": [
    "import pickle\n",
    "import pandas_datareader.data as web\n",
    "import pandas as pd\n",
    "from sklearn.linear_model import LinearRegression\n",
    "from sklearn.model_selection import train_test_split\n",
    "import yfinance as yf"
   ]
  },
  {
   "cell_type": "code",
   "execution_count": 60,
   "metadata": {},
   "outputs": [],
   "source": [
    "symbol = 'AAPL'\n",
    "start = pd.to_datetime('2010-02-01')\n",
    "end = pd.to_datetime('2023-03-29')"
   ]
  },
  {
   "cell_type": "code",
   "execution_count": 61,
   "metadata": {},
   "outputs": [
    {
     "name": "stdout",
     "output_type": "stream",
     "text": [
      "[*********************100%***********************]  1 of 1 completed\n"
     ]
    },
    {
     "data": {
      "text/html": [
       "<div>\n",
       "<style scoped>\n",
       "    .dataframe tbody tr th:only-of-type {\n",
       "        vertical-align: middle;\n",
       "    }\n",
       "\n",
       "    .dataframe tbody tr th {\n",
       "        vertical-align: top;\n",
       "    }\n",
       "\n",
       "    .dataframe thead th {\n",
       "        text-align: right;\n",
       "    }\n",
       "</style>\n",
       "<table border=\"1\" class=\"dataframe\">\n",
       "  <thead>\n",
       "    <tr style=\"text-align: right;\">\n",
       "      <th></th>\n",
       "      <th>Open</th>\n",
       "      <th>High</th>\n",
       "      <th>Low</th>\n",
       "      <th>Close</th>\n",
       "      <th>Adj Close</th>\n",
       "      <th>Volume</th>\n",
       "    </tr>\n",
       "    <tr>\n",
       "      <th>Date</th>\n",
       "      <th></th>\n",
       "      <th></th>\n",
       "      <th></th>\n",
       "      <th></th>\n",
       "      <th></th>\n",
       "      <th></th>\n",
       "    </tr>\n",
       "  </thead>\n",
       "  <tbody>\n",
       "    <tr>\n",
       "      <th>2010-02-01</th>\n",
       "      <td>6.870357</td>\n",
       "      <td>7.000000</td>\n",
       "      <td>6.832143</td>\n",
       "      <td>6.954643</td>\n",
       "      <td>5.919224</td>\n",
       "      <td>749876400</td>\n",
       "    </tr>\n",
       "    <tr>\n",
       "      <th>2010-02-02</th>\n",
       "      <td>6.996786</td>\n",
       "      <td>7.011429</td>\n",
       "      <td>6.906429</td>\n",
       "      <td>6.995000</td>\n",
       "      <td>5.953572</td>\n",
       "      <td>698342400</td>\n",
       "    </tr>\n",
       "    <tr>\n",
       "      <th>2010-02-03</th>\n",
       "      <td>6.970357</td>\n",
       "      <td>7.150000</td>\n",
       "      <td>6.943571</td>\n",
       "      <td>7.115357</td>\n",
       "      <td>6.056010</td>\n",
       "      <td>615328000</td>\n",
       "    </tr>\n",
       "    <tr>\n",
       "      <th>2010-02-04</th>\n",
       "      <td>7.026071</td>\n",
       "      <td>7.084643</td>\n",
       "      <td>6.841786</td>\n",
       "      <td>6.858929</td>\n",
       "      <td>5.837761</td>\n",
       "      <td>757652000</td>\n",
       "    </tr>\n",
       "    <tr>\n",
       "      <th>2010-02-05</th>\n",
       "      <td>6.879643</td>\n",
       "      <td>7.000000</td>\n",
       "      <td>6.816071</td>\n",
       "      <td>6.980714</td>\n",
       "      <td>5.941413</td>\n",
       "      <td>850306800</td>\n",
       "    </tr>\n",
       "    <tr>\n",
       "      <th>...</th>\n",
       "      <td>...</td>\n",
       "      <td>...</td>\n",
       "      <td>...</td>\n",
       "      <td>...</td>\n",
       "      <td>...</td>\n",
       "      <td>...</td>\n",
       "    </tr>\n",
       "    <tr>\n",
       "      <th>2023-03-22</th>\n",
       "      <td>159.300003</td>\n",
       "      <td>162.139999</td>\n",
       "      <td>157.809998</td>\n",
       "      <td>157.830002</td>\n",
       "      <td>157.830002</td>\n",
       "      <td>75701800</td>\n",
       "    </tr>\n",
       "    <tr>\n",
       "      <th>2023-03-23</th>\n",
       "      <td>158.830002</td>\n",
       "      <td>161.550003</td>\n",
       "      <td>157.679993</td>\n",
       "      <td>158.929993</td>\n",
       "      <td>158.929993</td>\n",
       "      <td>67622100</td>\n",
       "    </tr>\n",
       "    <tr>\n",
       "      <th>2023-03-24</th>\n",
       "      <td>158.860001</td>\n",
       "      <td>160.339996</td>\n",
       "      <td>157.850006</td>\n",
       "      <td>160.250000</td>\n",
       "      <td>160.250000</td>\n",
       "      <td>59196500</td>\n",
       "    </tr>\n",
       "    <tr>\n",
       "      <th>2023-03-27</th>\n",
       "      <td>159.940002</td>\n",
       "      <td>160.770004</td>\n",
       "      <td>157.869995</td>\n",
       "      <td>158.279999</td>\n",
       "      <td>158.279999</td>\n",
       "      <td>52390300</td>\n",
       "    </tr>\n",
       "    <tr>\n",
       "      <th>2023-03-28</th>\n",
       "      <td>157.970001</td>\n",
       "      <td>158.127701</td>\n",
       "      <td>155.979996</td>\n",
       "      <td>157.649994</td>\n",
       "      <td>157.649994</td>\n",
       "      <td>45992152</td>\n",
       "    </tr>\n",
       "  </tbody>\n",
       "</table>\n",
       "<p>3312 rows × 6 columns</p>\n",
       "</div>"
      ],
      "text/plain": [
       "                  Open        High         Low       Close   Adj Close  \\\n",
       "Date                                                                     \n",
       "2010-02-01    6.870357    7.000000    6.832143    6.954643    5.919224   \n",
       "2010-02-02    6.996786    7.011429    6.906429    6.995000    5.953572   \n",
       "2010-02-03    6.970357    7.150000    6.943571    7.115357    6.056010   \n",
       "2010-02-04    7.026071    7.084643    6.841786    6.858929    5.837761   \n",
       "2010-02-05    6.879643    7.000000    6.816071    6.980714    5.941413   \n",
       "...                ...         ...         ...         ...         ...   \n",
       "2023-03-22  159.300003  162.139999  157.809998  157.830002  157.830002   \n",
       "2023-03-23  158.830002  161.550003  157.679993  158.929993  158.929993   \n",
       "2023-03-24  158.860001  160.339996  157.850006  160.250000  160.250000   \n",
       "2023-03-27  159.940002  160.770004  157.869995  158.279999  158.279999   \n",
       "2023-03-28  157.970001  158.127701  155.979996  157.649994  157.649994   \n",
       "\n",
       "               Volume  \n",
       "Date                   \n",
       "2010-02-01  749876400  \n",
       "2010-02-02  698342400  \n",
       "2010-02-03  615328000  \n",
       "2010-02-04  757652000  \n",
       "2010-02-05  850306800  \n",
       "...               ...  \n",
       "2023-03-22   75701800  \n",
       "2023-03-23   67622100  \n",
       "2023-03-24   59196500  \n",
       "2023-03-27   52390300  \n",
       "2023-03-28   45992152  \n",
       "\n",
       "[3312 rows x 6 columns]"
      ]
     },
     "execution_count": 61,
     "metadata": {},
     "output_type": "execute_result"
    }
   ],
   "source": [
    "data = yf.download(symbol, start, end)\n",
    "data"
   ]
  },
  {
   "cell_type": "code",
   "execution_count": 62,
   "metadata": {},
   "outputs": [
    {
     "name": "stdout",
     "output_type": "stream",
     "text": [
      "<class 'pandas.core.frame.DataFrame'>\n",
      "DatetimeIndex: 3312 entries, 2010-02-01 to 2023-03-28\n",
      "Data columns (total 6 columns):\n",
      " #   Column     Non-Null Count  Dtype  \n",
      "---  ------     --------------  -----  \n",
      " 0   Open       3312 non-null   float64\n",
      " 1   High       3312 non-null   float64\n",
      " 2   Low        3312 non-null   float64\n",
      " 3   Close      3312 non-null   float64\n",
      " 4   Adj Close  3312 non-null   float64\n",
      " 5   Volume     3312 non-null   int64  \n",
      "dtypes: float64(5), int64(1)\n",
      "memory usage: 181.1 KB\n"
     ]
    }
   ],
   "source": [
    "data.info()"
   ]
  },
  {
   "cell_type": "code",
   "execution_count": 63,
   "metadata": {},
   "outputs": [],
   "source": [
    "y = data['Close']\n",
    "X = data.drop(['Close'],axis=1)"
   ]
  },
  {
   "cell_type": "code",
   "execution_count": 64,
   "metadata": {},
   "outputs": [
    {
     "data": {
      "text/html": [
       "<div>\n",
       "<style scoped>\n",
       "    .dataframe tbody tr th:only-of-type {\n",
       "        vertical-align: middle;\n",
       "    }\n",
       "\n",
       "    .dataframe tbody tr th {\n",
       "        vertical-align: top;\n",
       "    }\n",
       "\n",
       "    .dataframe thead th {\n",
       "        text-align: right;\n",
       "    }\n",
       "</style>\n",
       "<table border=\"1\" class=\"dataframe\">\n",
       "  <thead>\n",
       "    <tr style=\"text-align: right;\">\n",
       "      <th></th>\n",
       "      <th>Open</th>\n",
       "      <th>High</th>\n",
       "      <th>Low</th>\n",
       "      <th>Adj Close</th>\n",
       "      <th>Volume</th>\n",
       "    </tr>\n",
       "    <tr>\n",
       "      <th>Date</th>\n",
       "      <th></th>\n",
       "      <th></th>\n",
       "      <th></th>\n",
       "      <th></th>\n",
       "      <th></th>\n",
       "    </tr>\n",
       "  </thead>\n",
       "  <tbody>\n",
       "    <tr>\n",
       "      <th>2010-02-01</th>\n",
       "      <td>6.870357</td>\n",
       "      <td>7.000000</td>\n",
       "      <td>6.832143</td>\n",
       "      <td>5.919224</td>\n",
       "      <td>749876400</td>\n",
       "    </tr>\n",
       "    <tr>\n",
       "      <th>2010-02-02</th>\n",
       "      <td>6.996786</td>\n",
       "      <td>7.011429</td>\n",
       "      <td>6.906429</td>\n",
       "      <td>5.953572</td>\n",
       "      <td>698342400</td>\n",
       "    </tr>\n",
       "    <tr>\n",
       "      <th>2010-02-03</th>\n",
       "      <td>6.970357</td>\n",
       "      <td>7.150000</td>\n",
       "      <td>6.943571</td>\n",
       "      <td>6.056010</td>\n",
       "      <td>615328000</td>\n",
       "    </tr>\n",
       "    <tr>\n",
       "      <th>2010-02-04</th>\n",
       "      <td>7.026071</td>\n",
       "      <td>7.084643</td>\n",
       "      <td>6.841786</td>\n",
       "      <td>5.837761</td>\n",
       "      <td>757652000</td>\n",
       "    </tr>\n",
       "    <tr>\n",
       "      <th>2010-02-05</th>\n",
       "      <td>6.879643</td>\n",
       "      <td>7.000000</td>\n",
       "      <td>6.816071</td>\n",
       "      <td>5.941413</td>\n",
       "      <td>850306800</td>\n",
       "    </tr>\n",
       "  </tbody>\n",
       "</table>\n",
       "</div>"
      ],
      "text/plain": [
       "                Open      High       Low  Adj Close     Volume\n",
       "Date                                                          \n",
       "2010-02-01  6.870357  7.000000  6.832143   5.919224  749876400\n",
       "2010-02-02  6.996786  7.011429  6.906429   5.953572  698342400\n",
       "2010-02-03  6.970357  7.150000  6.943571   6.056010  615328000\n",
       "2010-02-04  7.026071  7.084643  6.841786   5.837761  757652000\n",
       "2010-02-05  6.879643  7.000000  6.816071   5.941413  850306800"
      ]
     },
     "execution_count": 64,
     "metadata": {},
     "output_type": "execute_result"
    }
   ],
   "source": [
    "X.head()"
   ]
  },
  {
   "cell_type": "code",
   "execution_count": 65,
   "metadata": {},
   "outputs": [
    {
     "data": {
      "text/plain": [
       "Date\n",
       "2010-02-01    6.954643\n",
       "2010-02-02    6.995000\n",
       "2010-02-03    7.115357\n",
       "2010-02-04    6.858929\n",
       "2010-02-05    6.980714\n",
       "Name: Close, dtype: float64"
      ]
     },
     "execution_count": 65,
     "metadata": {},
     "output_type": "execute_result"
    }
   ],
   "source": [
    "y.head()"
   ]
  },
  {
   "cell_type": "code",
   "execution_count": 66,
   "metadata": {},
   "outputs": [
    {
     "data": {
      "text/plain": [
       "<AxesSubplot: >"
      ]
     },
     "execution_count": 66,
     "metadata": {},
     "output_type": "execute_result"
    },
    {
     "data": {
      "image/png": "[encoded data removed]",
      "text/plain": [
       "<Figure size 1600x1000 with 2 Axes>"
      ]
     },
     "metadata": {},
     "output_type": "display_data"
    }
   ],
   "source": [
    "# Importing matplotlib and seaborn\n",
    "import matplotlib.pyplot as plt\n",
    "import seaborn as sns\n",
    "%matplotlib inline\n",
    "# Let's see the correlation matrix \n",
    "plt.figure(figsize = (16,10))     # Size of the figure\n",
    "sns.heatmap(X.corr(),annot = True)"
   ]
  },
  {
   "cell_type": "code",
   "execution_count": 67,
   "metadata": {},
   "outputs": [],
   "source": [
    "# Calculate the 20-day moving average of the closing price\n",
    "ma_20 = data[\"Close\"].rolling(window=20).mean()"
   ]
  },
  {
   "cell_type": "code",
   "execution_count": 71,
   "metadata": {},
   "outputs": [],
   "source": [
    "X['ma_20']  = data[\"Close\"].rolling(window=20).mean()\n",
    "data['ma_20']    =  data[\"Close\"].rolling(window=20).mean()"
   ]
  },
  {
   "cell_type": "code",
   "execution_count": 74,
   "metadata": {},
   "outputs": [],
   "source": [
    "X['ma_5']  = data[\"Close\"].rolling(window=5).mean()\n",
    "data['ma_5']    =  data[\"Close\"].rolling(window=5).mean()"
   ]
  },
  {
   "cell_type": "code",
   "execution_count": 75,
   "metadata": {},
   "outputs": [],
   "source": [
    "X['ma_10']  = data[\"Close\"].rolling(window=10).mean()\n",
    "data['ma_10']    =  data[\"Close\"].rolling(window=10).mean()"
   ]
  },
  {
   "cell_type": "code",
   "execution_count": 76,
   "metadata": {},
   "outputs": [
    {
     "data": {
      "text/plain": [
       "<AxesSubplot: >"
      ]
     },
     "execution_count": 76,
     "metadata": {},
     "output_type": "execute_result"
    },
    {
     "data": {
      "image/png": "[encoded data removed]",
      "text/plain": [
       "<Figure size 500x500 with 2 Axes>"
      ]
     },
     "metadata": {},
     "output_type": "display_data"
    }
   ],
   "source": [
    "# Let's see the correlation matrix \n",
    "plt.figure(figsize = (5,5))     # Size of the figure\n",
    "sns.heatmap(X.corr(),annot = True)"
   ]
  },
  {
   "cell_type": "code",
   "execution_count": 77,
   "metadata": {},
   "outputs": [
    {
     "data": {
      "text/html": [
       "<div>\n",
       "<style scoped>\n",
       "    .dataframe tbody tr th:only-of-type {\n",
       "        vertical-align: middle;\n",
       "    }\n",
       "\n",
       "    .dataframe tbody tr th {\n",
       "        vertical-align: top;\n",
       "    }\n",
       "\n",
       "    .dataframe thead th {\n",
       "        text-align: right;\n",
       "    }\n",
       "</style>\n",
       "<table border=\"1\" class=\"dataframe\">\n",
       "  <thead>\n",
       "    <tr style=\"text-align: right;\">\n",
       "      <th></th>\n",
       "      <th>Open</th>\n",
       "      <th>High</th>\n",
       "      <th>Low</th>\n",
       "      <th>Adj Close</th>\n",
       "      <th>Volume</th>\n",
       "      <th>ma_20</th>\n",
       "      <th>ma_5</th>\n",
       "      <th>ma_10</th>\n",
       "    </tr>\n",
       "    <tr>\n",
       "      <th>Date</th>\n",
       "      <th></th>\n",
       "      <th></th>\n",
       "      <th></th>\n",
       "      <th></th>\n",
       "      <th></th>\n",
       "      <th></th>\n",
       "      <th></th>\n",
       "      <th></th>\n",
       "    </tr>\n",
       "  </thead>\n",
       "  <tbody>\n",
       "    <tr>\n",
       "      <th>2010-02-01</th>\n",
       "      <td>6.870357</td>\n",
       "      <td>7.000000</td>\n",
       "      <td>6.832143</td>\n",
       "      <td>5.919224</td>\n",
       "      <td>749876400</td>\n",
       "      <td>NaN</td>\n",
       "      <td>NaN</td>\n",
       "      <td>NaN</td>\n",
       "    </tr>\n",
       "    <tr>\n",
       "      <th>2010-02-02</th>\n",
       "      <td>6.996786</td>\n",
       "      <td>7.011429</td>\n",
       "      <td>6.906429</td>\n",
       "      <td>5.953572</td>\n",
       "      <td>698342400</td>\n",
       "      <td>NaN</td>\n",
       "      <td>NaN</td>\n",
       "      <td>NaN</td>\n",
       "    </tr>\n",
       "    <tr>\n",
       "      <th>2010-02-03</th>\n",
       "      <td>6.970357</td>\n",
       "      <td>7.150000</td>\n",
       "      <td>6.943571</td>\n",
       "      <td>6.056010</td>\n",
       "      <td>615328000</td>\n",
       "      <td>NaN</td>\n",
       "      <td>NaN</td>\n",
       "      <td>NaN</td>\n",
       "    </tr>\n",
       "    <tr>\n",
       "      <th>2010-02-04</th>\n",
       "      <td>7.026071</td>\n",
       "      <td>7.084643</td>\n",
       "      <td>6.841786</td>\n",
       "      <td>5.837761</td>\n",
       "      <td>757652000</td>\n",
       "      <td>NaN</td>\n",
       "      <td>NaN</td>\n",
       "      <td>NaN</td>\n",
       "    </tr>\n",
       "    <tr>\n",
       "      <th>2010-02-05</th>\n",
       "      <td>6.879643</td>\n",
       "      <td>7.000000</td>\n",
       "      <td>6.816071</td>\n",
       "      <td>5.941413</td>\n",
       "      <td>850306800</td>\n",
       "      <td>NaN</td>\n",
       "      <td>6.980929</td>\n",
       "      <td>NaN</td>\n",
       "    </tr>\n",
       "  </tbody>\n",
       "</table>\n",
       "</div>"
      ],
      "text/plain": [
       "                Open      High       Low  Adj Close     Volume  ma_20  \\\n",
       "Date                                                                    \n",
       "2010-02-01  6.870357  7.000000  6.832143   5.919224  749876400    NaN   \n",
       "2010-02-02  6.996786  7.011429  6.906429   5.953572  698342400    NaN   \n",
       "2010-02-03  6.970357  7.150000  6.943571   6.056010  615328000    NaN   \n",
       "2010-02-04  7.026071  7.084643  6.841786   5.837761  757652000    NaN   \n",
       "2010-02-05  6.879643  7.000000  6.816071   5.941413  850306800    NaN   \n",
       "\n",
       "                ma_5  ma_10  \n",
       "Date                         \n",
       "2010-02-01       NaN    NaN  \n",
       "2010-02-02       NaN    NaN  \n",
       "2010-02-03       NaN    NaN  \n",
       "2010-02-04       NaN    NaN  \n",
       "2010-02-05  6.980929    NaN  "
      ]
     },
     "execution_count": 77,
     "metadata": {},
     "output_type": "execute_result"
    }
   ],
   "source": [
    "X.head()"
   ]
  },
  {
   "cell_type": "code",
   "execution_count": 78,
   "metadata": {},
   "outputs": [],
   "source": [
    "# Split the data into training and testing sets\n",
    "X_train, X_test, y_train, y_test = train_test_split(X, y, test_size=0.2)"
   ]
  },
  {
   "cell_type": "code",
   "execution_count": 81,
   "metadata": {},
   "outputs": [],
   "source": [
    "import xgboost as xgb\n",
    "from sklearn.metrics import mean_squared_error"
   ]
  },
  {
   "cell_type": "code",
   "execution_count": 82,
   "metadata": {},
   "outputs": [],
   "source": [
    "# Create the XGBoost regressor object\n",
    "xg_reg = xgb.XGBRegressor(objective ='reg:squarederror', colsample_bytree = 0.3, learning_rate = 0.1,\n",
    "                max_depth = 5, alpha = 10, n_estimators = 10)"
   ]
  },
  {
   "cell_type": "code",
   "execution_count": 83,
   "metadata": {},
   "outputs": [
    {
     "data": {
      "text/html": [
       "<style>#sk-container-id-1 {color: black;background-color: white;}#sk-container-id-1 pre{padding: 0;}#sk-container-id-1 div.sk-toggleable {background-color: white;}#sk-container-id-1 label.sk-toggleable__label {cursor: pointer;display: block;width: 100%;margin-bottom: 0;padding: 0.3em;box-sizing: border-box;text-align: center;}#sk-container-id-1 label.sk-toggleable__label-arrow:before {content: \"▸\";float: left;margin-right: 0.25em;color: #696969;}#sk-container-id-1 label.sk-toggleable__label-arrow:hover:before {color: black;}#sk-container-id-1 div.sk-estimator:hover label.sk-toggleable__label-arrow:before {color: black;}#sk-container-id-1 div.sk-toggleable__content {max-height: 0;max-width: 0;overflow: hidden;text-align: left;background-color: #f0f8ff;}#sk-container-id-1 div.sk-toggleable__content pre {margin: 0.2em;color: black;border-radius: 0.25em;background-color: #f0f8ff;}#sk-container-id-1 input.sk-toggleable__control:checked~div.sk-toggleable__content {max-height: 200px;max-width: 100%;overflow: auto;}#sk-container-id-1 input.sk-toggleable__control:checked~label.sk-toggleable__label-arrow:before {content: \"▾\";}#sk-container-id-1 div.sk-estimator input.sk-toggleable__control:checked~label.sk-toggleable__label {background-color: #d4ebff;}#sk-container-id-1 div.sk-label input.sk-toggleable__control:checked~label.sk-toggleable__label {background-color: #d4ebff;}#sk-container-id-1 input.sk-hidden--visually {border: 0;clip: rect(1px 1px 1px 1px);clip: rect(1px, 1px, 1px, 1px);height: 1px;margin: -1px;overflow: hidden;padding: 0;position: absolute;width: 1px;}#sk-container-id-1 div.sk-estimator {font-family: monospace;background-color: #f0f8ff;border: 1px dotted black;border-radius: 0.25em;box-sizing: border-box;margin-bottom: 0.5em;}#sk-container-id-1 div.sk-estimator:hover {background-color: #d4ebff;}#sk-container-id-1 div.sk-parallel-item::after {content: \"\";width: 100%;border-bottom: 1px solid gray;flex-grow: 1;}#sk-container-id-1 div.sk-label:hover label.sk-toggleable__label {background-color: #d4ebff;}#sk-container-id-1 div.sk-serial::before {content: \"\";position: absolute;border-left: 1px solid gray;box-sizing: border-box;top: 0;bottom: 0;left: 50%;z-index: 0;}#sk-container-id-1 div.sk-serial {display: flex;flex-direction: column;align-items: center;background-color: white;padding-right: 0.2em;padding-left: 0.2em;position: relative;}#sk-container-id-1 div.sk-item {position: relative;z-index: 1;}#sk-container-id-1 div.sk-parallel {display: flex;align-items: stretch;justify-content: center;background-color: white;position: relative;}#sk-container-id-1 div.sk-item::before, #sk-container-id-1 div.sk-parallel-item::before {content: \"\";position: absolute;border-left: 1px solid gray;box-sizing: border-box;top: 0;bottom: 0;left: 50%;z-index: -1;}#sk-container-id-1 div.sk-parallel-item {display: flex;flex-direction: column;z-index: 1;position: relative;background-color: white;}#sk-container-id-1 div.sk-parallel-item:first-child::after {align-self: flex-end;width: 50%;}#sk-container-id-1 div.sk-parallel-item:last-child::after {align-self: flex-start;width: 50%;}#sk-container-id-1 div.sk-parallel-item:only-child::after {width: 0;}#sk-container-id-1 div.sk-dashed-wrapped {border: 1px dashed gray;margin: 0 0.4em 0.5em 0.4em;box-sizing: border-box;padding-bottom: 0.4em;background-color: white;}#sk-container-id-1 div.sk-label label {font-family: monospace;font-weight: bold;display: inline-block;line-height: 1.2em;}#sk-container-id-1 div.sk-label-container {text-align: center;}#sk-container-id-1 div.sk-container {/* jupyter's `normalize.less` sets `[hidden] { display: none; }` but bootstrap.min.css set `[hidden] { display: none !important; }` so we also need the `!important` here to be able to override the default hidden behavior on the sphinx rendered scikit-learn.org. See: https://github.com/scikit-learn/scikit-learn/issues/21755 */display: inline-block !important;position: relative;}#sk-container-id-1 div.sk-text-repr-fallback {display: none;}</style><div id=\"sk-container-id-1\" class=\"sk-top-container\"><div class=\"sk-text-repr-fallback\"><pre>XGBRegressor(alpha=10, base_score=None, booster=None, callbacks=None,\n",
       "             colsample_bylevel=None, colsample_bynode=None,\n",
       "             colsample_bytree=0.3, early_stopping_rounds=None,\n",
       "             enable_categorical=False, eval_metric=None, feature_types=None,\n",
       "             gamma=None, gpu_id=None, grow_policy=None, importance_type=None,\n",
       "             interaction_constraints=None, learning_rate=0.1, max_bin=None,\n",
       "             max_cat_threshold=None, max_cat_to_onehot=None,\n",
       "             max_delta_step=None, max_depth=5, max_leaves=None,\n",
       "             min_child_weight=None, missing=nan, monotone_constraints=None,\n",
       "             n_estimators=10, n_jobs=None, num_parallel_tree=None,\n",
       "             predictor=None, ...)</pre><b>In a Jupyter environment, please rerun this cell to show the HTML representation or trust the notebook. <br />On GitHub, the HTML representation is unable to render, please try loading this page with nbviewer.org.</b></div><div class=\"sk-container\" hidden><div class=\"sk-item\"><div class=\"sk-estimator sk-toggleable\"><input class=\"sk-toggleable__control sk-hidden--visually\" id=\"sk-estimator-id-1\" type=\"checkbox\" checked><label for=\"sk-estimator-id-1\" class=\"sk-toggleable__label sk-toggleable__label-arrow\">XGBRegressor</label><div class=\"sk-toggleable__content\"><pre>XGBRegressor(alpha=10, base_score=None, booster=None, callbacks=None,\n",
       "             colsample_bylevel=None, colsample_bynode=None,\n",
       "             colsample_bytree=0.3, early_stopping_rounds=None,\n",
       "             enable_categorical=False, eval_metric=None, feature_types=None,\n",
       "             gamma=None, gpu_id=None, grow_policy=None, importance_type=None,\n",
       "             interaction_constraints=None, learning_rate=0.1, max_bin=None,\n",
       "             max_cat_threshold=None, max_cat_to_onehot=None,\n",
       "             max_delta_step=None, max_depth=5, max_leaves=None,\n",
       "             min_child_weight=None, missing=nan, monotone_constraints=None,\n",
       "             n_estimators=10, n_jobs=None, num_parallel_tree=None,\n",
       "             predictor=None, ...)</pre></div></div></div></div></div>"
      ],
      "text/plain": [
       "XGBRegressor(alpha=10, base_score=None, booster=None, callbacks=None,\n",
       "             colsample_bylevel=None, colsample_bynode=None,\n",
       "             colsample_bytree=0.3, early_stopping_rounds=None,\n",
       "             enable_categorical=False, eval_metric=None, feature_types=None,\n",
       "             gamma=None, gpu_id=None, grow_policy=None, importance_type=None,\n",
       "             interaction_constraints=None, learning_rate=0.1, max_bin=None,\n",
       "             max_cat_threshold=None, max_cat_to_onehot=None,\n",
       "             max_delta_step=None, max_depth=5, max_leaves=None,\n",
       "             min_child_weight=None, missing=nan, monotone_constraints=None,\n",
       "             n_estimators=10, n_jobs=None, num_parallel_tree=None,\n",
       "             predictor=None, ...)"
      ]
     },
     "execution_count": 83,
     "metadata": {},
     "output_type": "execute_result"
    }
   ],
   "source": [
    "# Train the XGBoost regressor on the training set\n",
    "xg_reg.fit(X_train,y_train)"
   ]
  },
  {
   "cell_type": "code",
   "execution_count": 84,
   "metadata": {},
   "outputs": [],
   "source": [
    "# Use the trained model to make predictions on the testing set\n",
    "preds = xg_reg.predict(X_test)"
   ]
  },
  {
   "cell_type": "code",
   "execution_count": 97,
   "metadata": {},
   "outputs": [
    {
     "data": {
      "text/plain": [
       "0.37116374850118583"
      ]
     },
     "execution_count": 97,
     "metadata": {},
     "output_type": "execute_result"
    }
   ],
   "source": [
    "from sklearn.metrics import r2_score\n",
    "r2score = r2_score(preds,y_test)\n",
    "r2score"
   ]
  },
  {
   "cell_type": "code",
   "execution_count": 85,
   "metadata": {},
   "outputs": [
    {
     "data": {
      "text/plain": [
       "603.5271500255745"
      ]
     },
     "execution_count": 85,
     "metadata": {},
     "output_type": "execute_result"
    }
   ],
   "source": [
    "# Calculate the mean squared error of the predictions\n",
    "mse = mean_squared_error(y_test, preds)\n",
    "mse"
   ]
  },
  {
   "cell_type": "code",
   "execution_count": 86,
   "metadata": {},
   "outputs": [],
   "source": [
    "import matplotlib.pyplot as plt\n",
    "import numpy as np"
   ]
  },
  {
   "cell_type": "code",
   "execution_count": 87,
   "metadata": {},
   "outputs": [
    {
     "data": {
      "image/png": "[encoded data removed]",
      "text/plain": [
       "<Figure size 640x480 with 1 Axes>"
      ]
     },
     "metadata": {},
     "output_type": "display_data"
    }
   ],
   "source": [
    "# Generate a scatter plot of y_test vs. preds\n",
    "plt.scatter(y_test, preds)\n",
    "plt.xlabel(\"Actual values\")\n",
    "plt.ylabel(\"Predicted values\")\n",
    "plt.title(\"Actual vs. Predicted Values (MSE: {:.2f})\".format(mse))\n",
    "\n",
    "# Add a diagonal line to the plot for reference\n",
    "xmin = min(np.min(y_test), np.min(preds))\n",
    "xmax = max(np.max(y_test), np.max(preds))\n",
    "plt.plot([xmin, xmax], [xmin, xmax], color='red')\n",
    "\n",
    "plt.show()"
   ]
  },
  {
   "cell_type": "code",
   "execution_count": 98,
   "metadata": {},
   "outputs": [],
   "source": [
    "from sklearn.model_selection import GridSearchCV, RandomizedSearchCV, cross_val_score, learning_curve, train_test_split"
   ]
  },
  {
   "cell_type": "code",
   "execution_count": 99,
   "metadata": {},
   "outputs": [],
   "source": [
    "# A parameter grid for XGBoost\n",
    "params = {\n",
    "        'n_estimators' : [100, 200, 500, 750], # no of trees \n",
    "        'learning_rate' : [0.01, 0.02, 0.05, 0.1, 0.25],  # eta\n",
    "        'min_child_weight': [1, 5, 7, 10],\n",
    "        'gamma': [0.1, 0.5, 1, 1.5, 5],\n",
    "        'subsample': [0.6, 0.8, 1.0],\n",
    "        'colsample_bytree': [0.6, 0.8, 1.0],\n",
    "        'max_depth': [3, 4, 5, 10, 12]\n",
    "        }\n",
    "\n",
    "folds = 3\n",
    "\n",
    "param_comb = 100\n",
    "\n",
    "random_search = RandomizedSearchCV(xg_reg, param_distributions=params, n_iter=param_comb, n_jobs=-1, cv=3, verbose=3, random_state=42)"
   ]
  },
  {
   "cell_type": "code",
   "execution_count": 100,
   "metadata": {},
   "outputs": [
    {
     "name": "stdout",
     "output_type": "stream",
     "text": [
      "Fitting 3 folds for each of 100 candidates, totalling 300 fits\n",
      "[CV 2/3] END colsample_bytree=0.6, gamma=5, learning_rate=0.05, max_depth=5, min_child_weight=5, n_estimators=100, subsample=1.0;, score=1.000 total time=   0.1s\n",
      "[CV 1/3] END colsample_bytree=0.6, gamma=5, learning_rate=0.05, max_depth=5, min_child_weight=5, n_estimators=100, subsample=1.0;, score=1.000 total time=   0.1s\n",
      "[CV 3/3] END colsample_bytree=0.6, gamma=5, learning_rate=0.05, max_depth=5, min_child_weight=5, n_estimators=100, subsample=1.0;, score=1.000 total time=   0.1s\n",
      "[CV 1/3] END colsample_bytree=1.0, gamma=1.5, learning_rate=0.01, max_depth=12, min_child_weight=1, n_estimators=200, subsample=0.6;, score=0.957 total time=   0.4s\n",
      "[CV 3/3] END colsample_bytree=1.0, gamma=1.5, learning_rate=0.01, max_depth=12, min_child_weight=1, n_estimators=200, subsample=0.6;, score=0.957 total time=   0.4s\n",
      "[CV 1/3] END colsample_bytree=0.8, gamma=5, learning_rate=0.25, max_depth=12, min_child_weight=5, n_estimators=100, subsample=0.6;, score=1.000 total time=   0.3s\n",
      "[CV 2/3] END colsample_bytree=1.0, gamma=1.5, learning_rate=0.01, max_depth=12, min_child_weight=1, n_estimators=200, subsample=0.6;, score=0.954 total time=   0.4s\n",
      "[CV 2/3] END colsample_bytree=0.6, gamma=0.1, learning_rate=0.1, max_depth=5, min_child_weight=10, n_estimators=500, subsample=1.0;, score=1.000 total time=   0.5s\n",
      "[CV 2/3] END colsample_bytree=0.8, gamma=5, learning_rate=0.25, max_depth=12, min_child_weight=5, n_estimators=100, subsample=0.6;, score=1.000 total time=   0.3s\n",
      "[CV 1/3] END colsample_bytree=0.6, gamma=0.1, learning_rate=0.1, max_depth=5, min_child_weight=10, n_estimators=500, subsample=1.0;, score=1.000 total time=   0.6s\n",
      "[CV 3/3] END colsample_bytree=0.6, gamma=0.1, learning_rate=0.1, max_depth=5, min_child_weight=10, n_estimators=500, subsample=1.0;, score=1.000 total time=   0.6s\n",
      "[CV 1/3] END colsample_bytree=0.8, gamma=0.1, learning_rate=0.02, max_depth=3, min_child_weight=7, n_estimators=100, subsample=0.8;, score=0.959 total time=   0.1s\n",
      "[CV 1/3] END colsample_bytree=0.8, gamma=5, learning_rate=0.05, max_depth=3, min_child_weight=1, n_estimators=200, subsample=0.8;, score=1.000 total time=   0.2s\n",
      "[CV 3/3] END colsample_bytree=0.8, gamma=5, learning_rate=0.05, max_depth=3, min_child_weight=1, n_estimators=200, subsample=0.8;, score=1.000 total time=   0.2s\n",
      "[CV 2/3] END colsample_bytree=0.8, gamma=0.1, learning_rate=0.02, max_depth=3, min_child_weight=7, n_estimators=100, subsample=0.8;, score=0.956 total time=   0.1s\n",
      "[CV 3/3] END colsample_bytree=0.8, gamma=0.1, learning_rate=0.02, max_depth=3, min_child_weight=7, n_estimators=100, subsample=0.8;, score=0.959 total time=   0.1s\n",
      "[CV 3/3] END colsample_bytree=0.8, gamma=5, learning_rate=0.25, max_depth=12, min_child_weight=5, n_estimators=100, subsample=0.6;, score=1.000 total time=   0.3s\n",
      "[CV 2/3] END colsample_bytree=0.8, gamma=5, learning_rate=0.05, max_depth=3, min_child_weight=1, n_estimators=200, subsample=0.8;, score=1.000 total time=   0.3s\n",
      "[CV 1/3] END colsample_bytree=1.0, gamma=5, learning_rate=0.01, max_depth=4, min_child_weight=1, n_estimators=100, subsample=1.0;, score=0.698 total time=   0.2s\n",
      "[CV 2/3] END colsample_bytree=1.0, gamma=5, learning_rate=0.01, max_depth=4, min_child_weight=1, n_estimators=100, subsample=1.0;, score=0.686 total time=   0.2s\n",
      "[CV 3/3] END colsample_bytree=1.0, gamma=5, learning_rate=0.01, max_depth=4, min_child_weight=1, n_estimators=100, subsample=1.0;, score=0.708 total time=   0.2s\n",
      "[CV 3/3] END colsample_bytree=0.6, gamma=1.5, learning_rate=0.1, max_depth=5, min_child_weight=1, n_estimators=750, subsample=0.8;, score=1.000 total time=   0.9s\n",
      "[CV 2/3] END colsample_bytree=0.6, gamma=1.5, learning_rate=0.1, max_depth=5, min_child_weight=1, n_estimators=750, subsample=0.8;, score=1.000 total time=   1.0s\n",
      "[CV 1/3] END colsample_bytree=0.6, gamma=1.5, learning_rate=0.1, max_depth=5, min_child_weight=1, n_estimators=750, subsample=0.8;, score=1.000 total time=   1.0s\n",
      "[CV 1/3] END colsample_bytree=1.0, gamma=1, learning_rate=0.01, max_depth=3, min_child_weight=5, n_estimators=750, subsample=1.0;, score=1.000 total time=   1.2s\n",
      "[CV 2/3] END colsample_bytree=1.0, gamma=1, learning_rate=0.01, max_depth=3, min_child_weight=5, n_estimators=750, subsample=1.0;, score=1.000 total time=   1.2s\n",
      "[CV 1/3] END colsample_bytree=0.8, gamma=5, learning_rate=0.05, max_depth=4, min_child_weight=7, n_estimators=750, subsample=1.0;, score=1.000 total time=   1.2s\n",
      "[CV 3/3] END colsample_bytree=1.0, gamma=1, learning_rate=0.01, max_depth=3, min_child_weight=5, n_estimators=750, subsample=1.0;, score=1.000 total time=   1.2s\n",
      "[CV 2/3] END colsample_bytree=0.8, gamma=5, learning_rate=0.05, max_depth=4, min_child_weight=7, n_estimators=750, subsample=1.0;, score=1.000 total time=   1.2s\n",
      "[CV 1/3] END colsample_bytree=1.0, gamma=1.5, learning_rate=0.02, max_depth=10, min_child_weight=10, n_estimators=200, subsample=0.6;, score=0.999 total time=   0.4s\n",
      "[CV 2/3] END colsample_bytree=1.0, gamma=1.5, learning_rate=0.02, max_depth=10, min_child_weight=10, n_estimators=200, subsample=0.6;, score=0.999 total time=   0.4s\n",
      "[CV 3/3] END colsample_bytree=1.0, gamma=1.5, learning_rate=0.02, max_depth=10, min_child_weight=10, n_estimators=200, subsample=0.6;, score=0.999 total time=   0.3s\n",
      "[CV 1/3] END colsample_bytree=0.6, gamma=0.5, learning_rate=0.05, max_depth=3, min_child_weight=1, n_estimators=200, subsample=1.0;, score=1.000 total time=   0.2s\n",
      "[CV 1/3] END colsample_bytree=0.6, gamma=0.1, learning_rate=0.1, max_depth=4, min_child_weight=1, n_estimators=100, subsample=0.8;, score=1.000 total time=   0.1s\n",
      "[CV 3/3] END colsample_bytree=0.6, gamma=0.5, learning_rate=0.05, max_depth=3, min_child_weight=1, n_estimators=200, subsample=1.0;, score=1.000 total time=   0.2s\n",
      "[CV 2/3] END colsample_bytree=0.6, gamma=0.1, learning_rate=0.1, max_depth=4, min_child_weight=1, n_estimators=100, subsample=0.8;, score=1.000 total time=   0.1s\n",
      "[CV 2/3] END colsample_bytree=0.6, gamma=0.5, learning_rate=0.05, max_depth=3, min_child_weight=1, n_estimators=200, subsample=1.0;, score=1.000 total time=   0.3s\n",
      "[CV 3/3] END colsample_bytree=0.6, gamma=0.1, learning_rate=0.1, max_depth=4, min_child_weight=1, n_estimators=100, subsample=0.8;, score=1.000 total time=   0.1s\n",
      "[CV 3/3] END colsample_bytree=0.8, gamma=5, learning_rate=0.05, max_depth=4, min_child_weight=7, n_estimators=750, subsample=1.0;, score=1.000 total time=   1.2s\n",
      "[CV 1/3] END colsample_bytree=0.6, gamma=5, learning_rate=0.05, max_depth=3, min_child_weight=7, n_estimators=500, subsample=0.8;, score=1.000 total time=   0.4s\n",
      "[CV 1/3] END colsample_bytree=0.8, gamma=0.5, learning_rate=0.25, max_depth=10, min_child_weight=5, n_estimators=500, subsample=0.6;, score=1.000 total time=   0.9s\n",
      "[CV 2/3] END colsample_bytree=0.8, gamma=0.5, learning_rate=0.25, max_depth=10, min_child_weight=5, n_estimators=500, subsample=0.6;, score=1.000 total time=   0.9s\n",
      "[CV 3/3] END colsample_bytree=0.8, gamma=0.5, learning_rate=0.25, max_depth=10, min_child_weight=5, n_estimators=500, subsample=0.6;, score=1.000 total time=   0.9s\n",
      "[CV 1/3] END colsample_bytree=0.6, gamma=1, learning_rate=0.01, max_depth=3, min_child_weight=7, n_estimators=750, subsample=0.6;, score=1.000 total time=   0.6s\n",
      "[CV 2/3] END colsample_bytree=0.6, gamma=1, learning_rate=0.01, max_depth=3, min_child_weight=7, n_estimators=750, subsample=0.6;, score=1.000 total time=   0.6s\n",
      "[CV 1/3] END colsample_bytree=0.8, gamma=0.1, learning_rate=0.02, max_depth=10, min_child_weight=10, n_estimators=100, subsample=0.6;, score=0.958 total time=   0.2s\n",
      "[CV 2/3] END colsample_bytree=0.8, gamma=0.1, learning_rate=0.02, max_depth=10, min_child_weight=10, n_estimators=100, subsample=0.6;, score=0.955 total time=   0.2s\n",
      "[CV 3/3] END colsample_bytree=0.6, gamma=1, learning_rate=0.01, max_depth=3, min_child_weight=7, n_estimators=750, subsample=0.6;, score=1.000 total time=   0.8s\n",
      "[CV 2/3] END colsample_bytree=0.6, gamma=5, learning_rate=0.05, max_depth=3, min_child_weight=7, n_estimators=500, subsample=0.8;, score=1.000 total time=   0.4s\n",
      "[CV 3/3] END colsample_bytree=0.8, gamma=0.1, learning_rate=0.02, max_depth=10, min_child_weight=10, n_estimators=100, subsample=0.6;, score=0.958 total time=   0.1s\n",
      "[CV 2/3] END colsample_bytree=1.0, gamma=5, learning_rate=0.1, max_depth=4, min_child_weight=1, n_estimators=100, subsample=0.6;, score=1.000 total time=   0.2s\n",
      "[CV 3/3] END colsample_bytree=0.6, gamma=5, learning_rate=0.05, max_depth=3, min_child_weight=7, n_estimators=500, subsample=0.8;, score=1.000 total time=   0.5s\n",
      "[CV 1/3] END colsample_bytree=1.0, gamma=5, learning_rate=0.1, max_depth=4, min_child_weight=1, n_estimators=100, subsample=0.6;, score=1.000 total time=   0.2s\n",
      "[CV 3/3] END colsample_bytree=1.0, gamma=5, learning_rate=0.1, max_depth=4, min_child_weight=1, n_estimators=100, subsample=0.6;, score=1.000 total time=   0.2s\n",
      "[CV 1/3] END colsample_bytree=0.8, gamma=0.1, learning_rate=0.02, max_depth=10, min_child_weight=5, n_estimators=100, subsample=0.6;, score=0.958 total time=   0.2s\n",
      "[CV 1/3] END colsample_bytree=0.8, gamma=1, learning_rate=0.02, max_depth=3, min_child_weight=7, n_estimators=100, subsample=1.0;, score=0.959 total time=   0.1s\n",
      "[CV 1/3] END colsample_bytree=0.6, gamma=5, learning_rate=0.02, max_depth=3, min_child_weight=1, n_estimators=750, subsample=1.0;, score=1.000 total time=   0.6s\n",
      "[CV 2/3] END colsample_bytree=0.8, gamma=0.1, learning_rate=0.02, max_depth=10, min_child_weight=5, n_estimators=100, subsample=0.6;, score=0.955 total time=   0.2s\n",
      "[CV 3/3] END colsample_bytree=0.8, gamma=0.1, learning_rate=0.02, max_depth=10, min_child_weight=5, n_estimators=100, subsample=0.6;, score=0.958 total time=   0.2s\n",
      "[CV 2/3] END colsample_bytree=0.8, gamma=1, learning_rate=0.02, max_depth=3, min_child_weight=7, n_estimators=100, subsample=1.0;, score=0.956 total time=   0.1s\n",
      "[CV 2/3] END colsample_bytree=0.6, gamma=5, learning_rate=0.02, max_depth=3, min_child_weight=1, n_estimators=750, subsample=1.0;, score=1.000 total time=   0.7s\n",
      "[CV 3/3] END colsample_bytree=0.8, gamma=1, learning_rate=0.02, max_depth=3, min_child_weight=7, n_estimators=100, subsample=1.0;, score=0.960 total time=   0.1s\n",
      "[CV 3/3] END colsample_bytree=0.6, gamma=5, learning_rate=0.02, max_depth=3, min_child_weight=1, n_estimators=750, subsample=1.0;, score=1.000 total time=   0.7s\n",
      "[CV 1/3] END colsample_bytree=0.6, gamma=1, learning_rate=0.05, max_depth=5, min_child_weight=7, n_estimators=200, subsample=1.0;, score=1.000 total time=   0.3s\n",
      "[CV 2/3] END colsample_bytree=0.6, gamma=1, learning_rate=0.05, max_depth=5, min_child_weight=7, n_estimators=200, subsample=1.0;, score=1.000 total time=   0.2s\n",
      "[CV 3/3] END colsample_bytree=0.6, gamma=1, learning_rate=0.05, max_depth=5, min_child_weight=7, n_estimators=200, subsample=1.0;, score=1.000 total time=   0.3s\n",
      "[CV 1/3] END colsample_bytree=0.6, gamma=0.5, learning_rate=0.05, max_depth=12, min_child_weight=7, n_estimators=200, subsample=0.6;, score=1.000 total time=   0.2s\n",
      "[CV 2/3] END colsample_bytree=0.6, gamma=0.5, learning_rate=0.05, max_depth=12, min_child_weight=7, n_estimators=200, subsample=0.6;, score=1.000 total time=   0.2s\n",
      "[CV 3/3] END colsample_bytree=0.6, gamma=0.1, learning_rate=0.01, max_depth=10, min_child_weight=10, n_estimators=750, subsample=0.6;, score=1.000 total time=   0.8s\n",
      "[CV 1/3] END colsample_bytree=0.6, gamma=0.1, learning_rate=0.01, max_depth=10, min_child_weight=10, n_estimators=750, subsample=0.6;, score=1.000 total time=   0.9s\n",
      "[CV 3/3] END colsample_bytree=0.6, gamma=0.5, learning_rate=0.05, max_depth=12, min_child_weight=7, n_estimators=200, subsample=0.6;, score=1.000 total time=   0.2s\n",
      "[CV 2/3] END colsample_bytree=0.6, gamma=0.1, learning_rate=0.01, max_depth=10, min_child_weight=10, n_estimators=750, subsample=0.6;, score=1.000 total time=   0.9s\n",
      "[CV 1/3] END colsample_bytree=0.6, gamma=1, learning_rate=0.02, max_depth=5, min_child_weight=1, n_estimators=750, subsample=1.0;, score=1.000 total time=   1.0s\n",
      "[CV 2/3] END colsample_bytree=0.6, gamma=1, learning_rate=0.02, max_depth=5, min_child_weight=1, n_estimators=750, subsample=1.0;, score=1.000 total time=   1.0s\n",
      "[CV 3/3] END colsample_bytree=0.6, gamma=1, learning_rate=0.02, max_depth=5, min_child_weight=1, n_estimators=750, subsample=1.0;, score=1.000 total time=   1.1s\n",
      "[CV 1/3] END colsample_bytree=0.6, gamma=0.5, learning_rate=0.01, max_depth=4, min_child_weight=5, n_estimators=500, subsample=0.8;, score=1.000 total time=   0.6s\n",
      "[CV 2/3] END colsample_bytree=0.6, gamma=0.5, learning_rate=0.01, max_depth=4, min_child_weight=5, n_estimators=500, subsample=0.8;, score=1.000 total time=   0.6s\n",
      "[CV 3/3] END colsample_bytree=0.6, gamma=0.5, learning_rate=0.01, max_depth=4, min_child_weight=5, n_estimators=500, subsample=0.8;, score=1.000 total time=   0.6s\n",
      "[CV 1/3] END colsample_bytree=0.8, gamma=5, learning_rate=0.05, max_depth=5, min_child_weight=5, n_estimators=500, subsample=0.6;, score=1.000 total time=   0.6s\n",
      "[CV 1/3] END colsample_bytree=0.6, gamma=1, learning_rate=0.25, max_depth=12, min_child_weight=1, n_estimators=200, subsample=0.8;, score=1.000 total time=   0.4s\n",
      "[CV 2/3] END colsample_bytree=0.6, gamma=1, learning_rate=0.25, max_depth=12, min_child_weight=1, n_estimators=200, subsample=0.8;, score=1.000 total time=   0.4s\n",
      "[CV 1/3] END colsample_bytree=0.6, gamma=1.5, learning_rate=0.02, max_depth=4, min_child_weight=1, n_estimators=100, subsample=1.0;, score=0.959 total time=   0.1s\n",
      "[CV 2/3] END colsample_bytree=0.6, gamma=1.5, learning_rate=0.02, max_depth=4, min_child_weight=1, n_estimators=100, subsample=1.0;, score=0.956 total time=   0.1s\n",
      "[CV 2/3] END colsample_bytree=0.8, gamma=5, learning_rate=0.05, max_depth=5, min_child_weight=5, n_estimators=500, subsample=0.6;, score=1.000 total time=   0.9s\n",
      "[CV 3/3] END colsample_bytree=0.6, gamma=1, learning_rate=0.25, max_depth=12, min_child_weight=1, n_estimators=200, subsample=0.8;, score=1.000 total time=   0.4s\n",
      "[CV 3/3] END colsample_bytree=0.6, gamma=1.5, learning_rate=0.02, max_depth=4, min_child_weight=1, n_estimators=100, subsample=1.0;, score=0.960 total time=   0.1s\n",
      "[CV 3/3] END colsample_bytree=0.8, gamma=5, learning_rate=0.05, max_depth=5, min_child_weight=5, n_estimators=500, subsample=0.6;, score=1.000 total time=   0.8s\n",
      "[CV 3/3] END colsample_bytree=0.8, gamma=1, learning_rate=0.02, max_depth=12, min_child_weight=1, n_estimators=500, subsample=0.6;, score=1.000 total time=   0.9s\n",
      "[CV 1/3] END colsample_bytree=0.8, gamma=1, learning_rate=0.02, max_depth=12, min_child_weight=1, n_estimators=500, subsample=0.6;, score=1.000 total time=   0.9s\n",
      "[CV 2/3] END colsample_bytree=0.8, gamma=1, learning_rate=0.02, max_depth=12, min_child_weight=1, n_estimators=500, subsample=0.6;, score=1.000 total time=   0.9s\n",
      "[CV 1/3] END colsample_bytree=1.0, gamma=1, learning_rate=0.01, max_depth=5, min_child_weight=1, n_estimators=500, subsample=0.6;, score=1.000 total time=   1.0s\n",
      "[CV 2/3] END colsample_bytree=1.0, gamma=1, learning_rate=0.01, max_depth=5, min_child_weight=1, n_estimators=500, subsample=0.6;, score=1.000 total time=   0.9s\n",
      "[CV 1/3] END colsample_bytree=1.0, gamma=5, learning_rate=0.25, max_depth=10, min_child_weight=1, n_estimators=500, subsample=1.0;, score=1.000 total time=   2.3s\n",
      "[CV 3/3] END colsample_bytree=1.0, gamma=5, learning_rate=0.25, max_depth=10, min_child_weight=1, n_estimators=500, subsample=1.0;, score=1.000 total time=   2.4s\n",
      "[CV 2/3] END colsample_bytree=1.0, gamma=5, learning_rate=0.25, max_depth=10, min_child_weight=1, n_estimators=500, subsample=1.0;, score=1.000 total time=   2.6s\n",
      "[CV 1/3] END colsample_bytree=0.8, gamma=1.5, learning_rate=0.25, max_depth=4, min_child_weight=5, n_estimators=500, subsample=0.8;, score=1.000 total time=   0.7s\n",
      "[CV 3/3] END colsample_bytree=0.8, gamma=1.5, learning_rate=0.25, max_depth=4, min_child_weight=5, n_estimators=500, subsample=0.8;, score=1.000 total time=   0.8s\n",
      "[CV 2/3] END colsample_bytree=0.8, gamma=1.5, learning_rate=0.25, max_depth=4, min_child_weight=5, n_estimators=500, subsample=0.8;, score=1.000 total time=   0.9s\n",
      "[CV 3/3] END colsample_bytree=1.0, gamma=1, learning_rate=0.01, max_depth=5, min_child_weight=1, n_estimators=500, subsample=0.6;, score=1.000 total time=   1.1s\n",
      "[CV 1/3] END colsample_bytree=0.8, gamma=1, learning_rate=0.02, max_depth=10, min_child_weight=1, n_estimators=500, subsample=1.0;, score=1.000 total time=   1.0s\n",
      "[CV 2/3] END colsample_bytree=0.8, gamma=1, learning_rate=0.02, max_depth=10, min_child_weight=1, n_estimators=500, subsample=1.0;, score=1.000 total time=   1.0s\n",
      "[CV 1/3] END colsample_bytree=0.8, gamma=1.5, learning_rate=0.05, max_depth=10, min_child_weight=7, n_estimators=200, subsample=1.0;, score=1.000 total time=   0.4s\n",
      "[CV 2/3] END colsample_bytree=0.8, gamma=1.5, learning_rate=0.05, max_depth=10, min_child_weight=7, n_estimators=200, subsample=1.0;, score=1.000 total time=   0.4s\n",
      "[CV 3/3] END colsample_bytree=0.8, gamma=1.5, learning_rate=0.05, max_depth=10, min_child_weight=7, n_estimators=200, subsample=1.0;, score=1.000 total time=   0.3s\n",
      "[CV 1/3] END colsample_bytree=0.8, gamma=1.5, learning_rate=0.1, max_depth=12, min_child_weight=10, n_estimators=500, subsample=0.8;, score=1.000 total time=   1.0s\n",
      "[CV 3/3] END colsample_bytree=0.8, gamma=1, learning_rate=0.02, max_depth=10, min_child_weight=1, n_estimators=500, subsample=1.0;, score=1.000 total time=   1.1s\n",
      "[CV 2/3] END colsample_bytree=0.8, gamma=1.5, learning_rate=0.1, max_depth=12, min_child_weight=10, n_estimators=500, subsample=0.8;, score=1.000 total time=   1.0s\n",
      "[CV 3/3] END colsample_bytree=0.8, gamma=1.5, learning_rate=0.1, max_depth=12, min_child_weight=10, n_estimators=500, subsample=0.8;, score=1.000 total time=   0.9s\n",
      "[CV 1/3] END colsample_bytree=0.8, gamma=5, learning_rate=0.01, max_depth=12, min_child_weight=7, n_estimators=100, subsample=0.6;, score=0.696 total time=   0.2s\n",
      "[CV 2/3] END colsample_bytree=0.8, gamma=5, learning_rate=0.01, max_depth=12, min_child_weight=7, n_estimators=100, subsample=0.6;, score=0.682 total time=   0.2s\n",
      "[CV 1/3] END colsample_bytree=0.8, gamma=1, learning_rate=0.01, max_depth=3, min_child_weight=7, n_estimators=750, subsample=0.6;, score=1.000 total time=   0.8s\n",
      "[CV 3/3] END colsample_bytree=0.8, gamma=5, learning_rate=0.01, max_depth=12, min_child_weight=7, n_estimators=100, subsample=0.6;, score=0.702 total time=   0.2s\n",
      "[CV 2/3] END colsample_bytree=0.8, gamma=1, learning_rate=0.01, max_depth=3, min_child_weight=7, n_estimators=750, subsample=0.6;, score=1.000 total time=   0.8s\n",
      "[CV 3/3] END colsample_bytree=0.8, gamma=1, learning_rate=0.01, max_depth=3, min_child_weight=7, n_estimators=750, subsample=0.6;, score=1.000 total time=   0.9s\n",
      "[CV 1/3] END colsample_bytree=0.6, gamma=1, learning_rate=0.01, max_depth=12, min_child_weight=5, n_estimators=500, subsample=1.0;, score=1.000 total time=   0.7s\n",
      "[CV 2/3] END colsample_bytree=0.6, gamma=1, learning_rate=0.01, max_depth=12, min_child_weight=5, n_estimators=500, subsample=1.0;, score=1.000 total time=   0.8s\n",
      "[CV 3/3] END colsample_bytree=0.6, gamma=1, learning_rate=0.01, max_depth=12, min_child_weight=5, n_estimators=500, subsample=1.0;, score=1.000 total time=   0.8s\n",
      "[CV 1/3] END colsample_bytree=0.8, gamma=1.5, learning_rate=0.05, max_depth=10, min_child_weight=1, n_estimators=750, subsample=0.6;, score=1.000 total time=   1.4s\n",
      "[CV 3/3] END colsample_bytree=0.8, gamma=1.5, learning_rate=0.05, max_depth=10, min_child_weight=1, n_estimators=750, subsample=0.6;, score=1.000 total time=   1.4s\n",
      "[CV 2/3] END colsample_bytree=0.8, gamma=1.5, learning_rate=0.05, max_depth=10, min_child_weight=1, n_estimators=750, subsample=0.6;, score=1.000 total time=   1.6s\n",
      "[CV 1/3] END colsample_bytree=1.0, gamma=0.1, learning_rate=0.01, max_depth=12, min_child_weight=5, n_estimators=100, subsample=1.0;, score=0.699 total time=   0.2s\n",
      "[CV 1/3] END colsample_bytree=1.0, gamma=1.5, learning_rate=0.01, max_depth=10, min_child_weight=10, n_estimators=500, subsample=0.8;, score=1.000 total time=   1.1s\n",
      "[CV 3/3] END colsample_bytree=1.0, gamma=0.1, learning_rate=0.01, max_depth=12, min_child_weight=5, n_estimators=100, subsample=1.0;, score=0.708 total time=   0.2s\n",
      "[CV 2/3] END colsample_bytree=1.0, gamma=1.5, learning_rate=0.01, max_depth=10, min_child_weight=10, n_estimators=500, subsample=0.8;, score=1.000 total time=   1.0s\n",
      "[CV 2/3] END colsample_bytree=1.0, gamma=0.1, learning_rate=0.01, max_depth=12, min_child_weight=5, n_estimators=100, subsample=1.0;, score=0.686 total time=   0.3s\n",
      "[CV 3/3] END colsample_bytree=1.0, gamma=1.5, learning_rate=0.01, max_depth=10, min_child_weight=10, n_estimators=500, subsample=0.8;, score=1.000 total time=   1.0s\n",
      "[CV 1/3] END colsample_bytree=0.8, gamma=0.5, learning_rate=0.25, max_depth=4, min_child_weight=5, n_estimators=500, subsample=0.6;, score=1.000 total time=   0.7s\n",
      "[CV 3/3] END colsample_bytree=0.8, gamma=0.5, learning_rate=0.25, max_depth=4, min_child_weight=5, n_estimators=500, subsample=0.6;, score=1.000 total time=   0.7s\n",
      "[CV 2/3] END colsample_bytree=0.8, gamma=0.5, learning_rate=0.25, max_depth=4, min_child_weight=5, n_estimators=500, subsample=0.6;, score=1.000 total time=   0.9s\n",
      "[CV 1/3] END colsample_bytree=1.0, gamma=5, learning_rate=0.02, max_depth=5, min_child_weight=5, n_estimators=750, subsample=1.0;, score=1.000 total time=   1.6s\n",
      "[CV 1/3] END colsample_bytree=0.6, gamma=1, learning_rate=0.1, max_depth=3, min_child_weight=7, n_estimators=500, subsample=1.0;, score=1.000 total time=   0.4s\n",
      "[CV 2/3] END colsample_bytree=1.0, gamma=5, learning_rate=0.02, max_depth=5, min_child_weight=5, n_estimators=750, subsample=1.0;, score=1.000 total time=   1.7s\n",
      "[CV 3/3] END colsample_bytree=1.0, gamma=5, learning_rate=0.02, max_depth=5, min_child_weight=5, n_estimators=750, subsample=1.0;, score=1.000 total time=   1.7s\n",
      "[CV 1/3] END colsample_bytree=0.6, gamma=0.5, learning_rate=0.02, max_depth=10, min_child_weight=1, n_estimators=100, subsample=0.8;, score=0.959 total time=   0.1s\n",
      "[CV 3/3] END colsample_bytree=0.6, gamma=0.5, learning_rate=0.02, max_depth=10, min_child_weight=1, n_estimators=100, subsample=0.8;, score=0.959 total time=   0.1s\n",
      "[CV 2/3] END colsample_bytree=0.6, gamma=0.5, learning_rate=0.02, max_depth=10, min_child_weight=1, n_estimators=100, subsample=0.8;, score=0.956 total time=   0.1s\n",
      "[CV 2/3] END colsample_bytree=0.6, gamma=1, learning_rate=0.1, max_depth=3, min_child_weight=7, n_estimators=500, subsample=1.0;, score=1.000 total time=   0.4s\n",
      "[CV 1/3] END colsample_bytree=1.0, gamma=1, learning_rate=0.01, max_depth=5, min_child_weight=10, n_estimators=750, subsample=0.6;, score=1.000 total time=   1.3s\n",
      "[CV 1/3] END colsample_bytree=0.6, gamma=0.1, learning_rate=0.25, max_depth=4, min_child_weight=5, n_estimators=100, subsample=0.8;, score=1.000 total time=   0.1s\n",
      "[CV 2/3] END colsample_bytree=0.6, gamma=0.1, learning_rate=0.25, max_depth=4, min_child_weight=5, n_estimators=100, subsample=0.8;, score=1.000 total time=   0.1s\n",
      "[CV 2/3] END colsample_bytree=1.0, gamma=1, learning_rate=0.01, max_depth=5, min_child_weight=10, n_estimators=750, subsample=0.6;, score=1.000 total time=   1.2s\n",
      "[CV 3/3] END colsample_bytree=0.6, gamma=0.1, learning_rate=0.25, max_depth=4, min_child_weight=5, n_estimators=100, subsample=0.8;, score=1.000 total time=   0.1s\n",
      "[CV 3/3] END colsample_bytree=0.8, gamma=5, learning_rate=0.1, max_depth=5, min_child_weight=10, n_estimators=100, subsample=0.8;, score=1.000 total time=   0.1s\n",
      "[CV 1/3] END colsample_bytree=0.8, gamma=5, learning_rate=0.1, max_depth=5, min_child_weight=10, n_estimators=100, subsample=0.8;, score=1.000 total time=   0.2s\n",
      "[CV 3/3] END colsample_bytree=0.6, gamma=1, learning_rate=0.1, max_depth=3, min_child_weight=7, n_estimators=500, subsample=1.0;, score=1.000 total time=   0.6s\n",
      "[CV 2/3] END colsample_bytree=0.8, gamma=5, learning_rate=0.1, max_depth=5, min_child_weight=10, n_estimators=100, subsample=0.8;, score=1.000 total time=   0.2s\n",
      "[CV 2/3] END colsample_bytree=0.6, gamma=1.5, learning_rate=0.02, max_depth=5, min_child_weight=1, n_estimators=500, subsample=0.8;, score=1.000 total time=   0.6s\n",
      "[CV 1/3] END colsample_bytree=0.8, gamma=5, learning_rate=0.01, max_depth=3, min_child_weight=1, n_estimators=200, subsample=1.0;, score=0.958 total time=   0.2s\n",
      "[CV 2/3] END colsample_bytree=0.8, gamma=5, learning_rate=0.01, max_depth=3, min_child_weight=1, n_estimators=200, subsample=1.0;, score=0.955 total time=   0.2s\n",
      "[CV 1/3] END colsample_bytree=1.0, gamma=0.5, learning_rate=0.01, max_depth=12, min_child_weight=7, n_estimators=100, subsample=0.8;, score=0.698 total time=   0.2s\n",
      "[CV 3/3] END colsample_bytree=0.8, gamma=5, learning_rate=0.01, max_depth=3, min_child_weight=1, n_estimators=200, subsample=1.0;, score=0.959 total time=   0.3s\n",
      "[CV 1/3] END colsample_bytree=0.6, gamma=1.5, learning_rate=0.02, max_depth=5, min_child_weight=1, n_estimators=500, subsample=0.8;, score=1.000 total time=   0.7s\n",
      "[CV 3/3] END colsample_bytree=1.0, gamma=1, learning_rate=0.01, max_depth=5, min_child_weight=10, n_estimators=750, subsample=0.6;, score=1.000 total time=   1.3s\n",
      "[CV 3/3] END colsample_bytree=1.0, gamma=0.5, learning_rate=0.01, max_depth=12, min_child_weight=7, n_estimators=100, subsample=0.8;, score=0.705 total time=   0.2s\n",
      "[CV 2/3] END colsample_bytree=1.0, gamma=0.5, learning_rate=0.01, max_depth=12, min_child_weight=7, n_estimators=100, subsample=0.8;, score=0.684 total time=   0.3s\n",
      "[CV 3/3] END colsample_bytree=0.6, gamma=1.5, learning_rate=0.02, max_depth=5, min_child_weight=1, n_estimators=500, subsample=0.8;, score=1.000 total time=   0.8s\n",
      "[CV 2/3] END colsample_bytree=0.8, gamma=1.5, learning_rate=0.01, max_depth=4, min_child_weight=10, n_estimators=500, subsample=1.0;, score=1.000 total time=   0.6s\n",
      "[CV 1/3] END colsample_bytree=0.8, gamma=1.5, learning_rate=0.01, max_depth=4, min_child_weight=10, n_estimators=500, subsample=1.0;, score=1.000 total time=   0.7s\n",
      "[CV 3/3] END colsample_bytree=0.8, gamma=0.5, learning_rate=0.1, max_depth=4, min_child_weight=5, n_estimators=750, subsample=0.6;, score=1.000 total time=   0.8s\n",
      "[CV 3/3] END colsample_bytree=0.8, gamma=1.5, learning_rate=0.01, max_depth=4, min_child_weight=10, n_estimators=500, subsample=1.0;, score=1.000 total time=   0.7s\n",
      "[CV 2/3] END colsample_bytree=0.8, gamma=0.5, learning_rate=0.1, max_depth=4, min_child_weight=5, n_estimators=750, subsample=0.6;, score=1.000 total time=   0.9s\n",
      "[CV 1/3] END colsample_bytree=0.8, gamma=0.5, learning_rate=0.1, max_depth=4, min_child_weight=5, n_estimators=750, subsample=0.6;, score=1.000 total time=   1.0s\n",
      "[CV 1/3] END colsample_bytree=1.0, gamma=0.1, learning_rate=0.25, max_depth=3, min_child_weight=7, n_estimators=500, subsample=0.6;, score=1.000 total time=   0.8s\n",
      "[CV 2/3] END colsample_bytree=1.0, gamma=0.1, learning_rate=0.25, max_depth=3, min_child_weight=7, n_estimators=500, subsample=0.6;, score=1.000 total time=   0.9s\n",
      "[CV 1/3] END colsample_bytree=0.6, gamma=0.1, learning_rate=0.01, max_depth=10, min_child_weight=5, n_estimators=200, subsample=1.0;, score=0.959 total time=   0.3s\n",
      "[CV 3/3] END colsample_bytree=1.0, gamma=0.1, learning_rate=0.25, max_depth=3, min_child_weight=7, n_estimators=500, subsample=0.6;, score=1.000 total time=   0.7s\n",
      "[CV 2/3] END colsample_bytree=0.6, gamma=0.1, learning_rate=0.01, max_depth=10, min_child_weight=5, n_estimators=200, subsample=1.0;, score=0.955 total time=   0.3s\n",
      "[CV 3/3] END colsample_bytree=0.6, gamma=0.1, learning_rate=0.01, max_depth=10, min_child_weight=5, n_estimators=200, subsample=1.0;, score=0.959 total time=   0.2s\n",
      "[CV 1/3] END colsample_bytree=0.8, gamma=0.1, learning_rate=0.1, max_depth=10, min_child_weight=1, n_estimators=750, subsample=0.6;, score=1.000 total time=   1.0s\n",
      "[CV 2/3] END colsample_bytree=0.6, gamma=1.5, learning_rate=0.05, max_depth=12, min_child_weight=7, n_estimators=100, subsample=0.8;, score=1.000 total time=   0.1s\n",
      "[CV 1/3] END colsample_bytree=0.6, gamma=1.5, learning_rate=0.05, max_depth=12, min_child_weight=7, n_estimators=100, subsample=0.8;, score=1.000 total time=   0.1s\n",
      "[CV 3/3] END colsample_bytree=0.8, gamma=0.1, learning_rate=0.1, max_depth=10, min_child_weight=1, n_estimators=750, subsample=0.6;, score=1.000 total time=   1.0s\n",
      "[CV 3/3] END colsample_bytree=0.6, gamma=1.5, learning_rate=0.05, max_depth=12, min_child_weight=7, n_estimators=100, subsample=0.8;, score=1.000 total time=   0.1s\n",
      "[CV 2/3] END colsample_bytree=0.8, gamma=0.1, learning_rate=0.1, max_depth=10, min_child_weight=1, n_estimators=750, subsample=0.6;, score=1.000 total time=   1.1s\n",
      "[CV 1/3] END colsample_bytree=0.8, gamma=5, learning_rate=0.1, max_depth=3, min_child_weight=5, n_estimators=100, subsample=1.0;, score=1.000 total time=   0.1s\n",
      "[CV 2/3] END colsample_bytree=0.8, gamma=5, learning_rate=0.1, max_depth=3, min_child_weight=5, n_estimators=100, subsample=1.0;, score=1.000 total time=   0.1s\n",
      "[CV 1/3] END colsample_bytree=0.6, gamma=0.1, learning_rate=0.25, max_depth=3, min_child_weight=7, n_estimators=750, subsample=1.0;, score=1.000 total time=   0.3s\n",
      "[CV 2/3] END colsample_bytree=0.6, gamma=0.1, learning_rate=0.25, max_depth=3, min_child_weight=7, n_estimators=750, subsample=1.0;, score=1.000 total time=   0.3s\n",
      "[CV 3/3] END colsample_bytree=0.8, gamma=5, learning_rate=0.1, max_depth=3, min_child_weight=5, n_estimators=100, subsample=1.0;, score=1.000 total time=   0.1s\n",
      "[CV 3/3] END colsample_bytree=0.6, gamma=5, learning_rate=0.1, max_depth=10, min_child_weight=1, n_estimators=750, subsample=1.0;, score=1.000 total time=   1.2s\n",
      "[CV 2/3] END colsample_bytree=0.6, gamma=5, learning_rate=0.1, max_depth=10, min_child_weight=1, n_estimators=750, subsample=1.0;, score=1.000 total time=   1.3s\n",
      "[CV 1/3] END colsample_bytree=0.6, gamma=5, learning_rate=0.1, max_depth=10, min_child_weight=1, n_estimators=750, subsample=1.0;, score=1.000 total time=   1.4s\n",
      "[CV 3/3] END colsample_bytree=0.6, gamma=0.1, learning_rate=0.25, max_depth=3, min_child_weight=7, n_estimators=750, subsample=1.0;, score=1.000 total time=   0.6s\n",
      "[CV 1/3] END colsample_bytree=0.6, gamma=0.1, learning_rate=0.25, max_depth=4, min_child_weight=1, n_estimators=500, subsample=1.0;, score=1.000 total time=   0.3s\n",
      "[CV 3/3] END colsample_bytree=0.6, gamma=0.1, learning_rate=0.25, max_depth=4, min_child_weight=1, n_estimators=500, subsample=1.0;, score=1.000 total time=   0.3s\n",
      "[CV 2/3] END colsample_bytree=0.6, gamma=0.1, learning_rate=0.25, max_depth=4, min_child_weight=1, n_estimators=500, subsample=1.0;, score=1.000 total time=   0.3s\n",
      "[CV 2/3] END colsample_bytree=0.8, gamma=0.5, learning_rate=0.02, max_depth=10, min_child_weight=10, n_estimators=750, subsample=0.6;, score=1.000 total time=   1.0s\n",
      "[CV 1/3] END colsample_bytree=0.8, gamma=0.5, learning_rate=0.02, max_depth=10, min_child_weight=10, n_estimators=750, subsample=0.6;, score=1.000 total time=   1.0s\n",
      "[CV 3/3] END colsample_bytree=0.8, gamma=0.5, learning_rate=0.02, max_depth=10, min_child_weight=10, n_estimators=750, subsample=0.6;, score=1.000 total time=   1.3s\n",
      "[CV 1/3] END colsample_bytree=0.8, gamma=1, learning_rate=0.01, max_depth=5, min_child_weight=7, n_estimators=750, subsample=0.6;, score=1.000 total time=   1.1s\n",
      "[CV 2/3] END colsample_bytree=1.0, gamma=5, learning_rate=0.02, max_depth=12, min_child_weight=7, n_estimators=500, subsample=0.6;, score=1.000 total time=   1.0s\n",
      "[CV 1/3] END colsample_bytree=0.8, gamma=1, learning_rate=0.1, max_depth=10, min_child_weight=1, n_estimators=200, subsample=0.8;, score=1.000 total time=   0.4s\n",
      "[CV 1/3] END colsample_bytree=1.0, gamma=5, learning_rate=0.02, max_depth=12, min_child_weight=7, n_estimators=500, subsample=0.6;, score=1.000 total time=   1.0s\n",
      "[CV 3/3] END colsample_bytree=0.8, gamma=1, learning_rate=0.01, max_depth=5, min_child_weight=7, n_estimators=750, subsample=0.6;, score=1.000 total time=   1.1s\n",
      "[CV 2/3] END colsample_bytree=0.8, gamma=1, learning_rate=0.01, max_depth=5, min_child_weight=7, n_estimators=750, subsample=0.6;, score=1.000 total time=   1.1s\n",
      "[CV 2/3] END colsample_bytree=0.8, gamma=1, learning_rate=0.1, max_depth=10, min_child_weight=1, n_estimators=200, subsample=0.8;, score=1.000 total time=   0.5s\n",
      "[CV 1/3] END colsample_bytree=1.0, gamma=0.1, learning_rate=0.01, max_depth=10, min_child_weight=10, n_estimators=200, subsample=1.0;, score=0.959 total time=   0.5s\n",
      "[CV 2/3] END colsample_bytree=1.0, gamma=0.1, learning_rate=0.01, max_depth=10, min_child_weight=10, n_estimators=200, subsample=1.0;, score=0.956 total time=   0.4s\n",
      "[CV 3/3] END colsample_bytree=1.0, gamma=0.1, learning_rate=0.01, max_depth=10, min_child_weight=10, n_estimators=200, subsample=1.0;, score=0.959 total time=   0.5s\n",
      "[CV 3/3] END colsample_bytree=0.8, gamma=1, learning_rate=0.1, max_depth=10, min_child_weight=1, n_estimators=200, subsample=0.8;, score=1.000 total time=   0.6s\n",
      "[CV 3/3] END colsample_bytree=1.0, gamma=5, learning_rate=0.02, max_depth=12, min_child_weight=7, n_estimators=500, subsample=0.6;, score=1.000 total time=   1.0s\n",
      "[CV 1/3] END colsample_bytree=0.8, gamma=0.1, learning_rate=0.02, max_depth=4, min_child_weight=10, n_estimators=500, subsample=0.8;, score=1.000 total time=   0.7s\n",
      "[CV 2/3] END colsample_bytree=0.8, gamma=0.1, learning_rate=0.02, max_depth=4, min_child_weight=10, n_estimators=500, subsample=0.8;, score=1.000 total time=   0.7s\n",
      "[CV 1/3] END colsample_bytree=0.8, gamma=1, learning_rate=0.01, max_depth=10, min_child_weight=7, n_estimators=200, subsample=0.6;, score=0.957 total time=   0.3s\n",
      "[CV 3/3] END colsample_bytree=0.8, gamma=1, learning_rate=0.01, max_depth=10, min_child_weight=7, n_estimators=200, subsample=0.6;, score=0.958 total time=   0.3s\n",
      "[CV 2/3] END colsample_bytree=0.8, gamma=1, learning_rate=0.01, max_depth=10, min_child_weight=7, n_estimators=200, subsample=0.6;, score=0.954 total time=   0.3s\n",
      "[CV 3/3] END colsample_bytree=0.8, gamma=0.1, learning_rate=0.02, max_depth=4, min_child_weight=10, n_estimators=500, subsample=0.8;, score=1.000 total time=   0.8s\n",
      "[CV 1/3] END colsample_bytree=0.8, gamma=0.5, learning_rate=0.01, max_depth=3, min_child_weight=1, n_estimators=500, subsample=1.0;, score=1.000 total time=   0.7s\n",
      "[CV 2/3] END colsample_bytree=0.8, gamma=0.5, learning_rate=0.01, max_depth=3, min_child_weight=1, n_estimators=500, subsample=1.0;, score=1.000 total time=   0.7s\n",
      "[CV 1/3] END colsample_bytree=0.6, gamma=5, learning_rate=0.02, max_depth=12, min_child_weight=10, n_estimators=500, subsample=1.0;, score=1.000 total time=   0.7s\n",
      "[CV 3/3] END colsample_bytree=0.8, gamma=0.5, learning_rate=0.01, max_depth=3, min_child_weight=1, n_estimators=500, subsample=1.0;, score=1.000 total time=   0.8s\n",
      "[CV 2/3] END colsample_bytree=0.6, gamma=5, learning_rate=0.02, max_depth=12, min_child_weight=10, n_estimators=500, subsample=1.0;, score=1.000 total time=   0.8s\n",
      "[CV 1/3] END colsample_bytree=1.0, gamma=1.5, learning_rate=0.05, max_depth=5, min_child_weight=10, n_estimators=200, subsample=0.8;, score=1.000 total time=   0.5s\n",
      "[CV 1/3] END colsample_bytree=0.8, gamma=0.5, learning_rate=0.1, max_depth=4, min_child_weight=10, n_estimators=100, subsample=1.0;, score=1.000 total time=   0.1s\n",
      "[CV 3/3] END colsample_bytree=0.6, gamma=5, learning_rate=0.02, max_depth=12, min_child_weight=10, n_estimators=500, subsample=1.0;, score=1.000 total time=   0.9s\n",
      "[CV 2/3] END colsample_bytree=0.8, gamma=0.5, learning_rate=0.1, max_depth=4, min_child_weight=10, n_estimators=100, subsample=1.0;, score=1.000 total time=   0.1s\n",
      "[CV 3/3] END colsample_bytree=0.8, gamma=0.5, learning_rate=0.1, max_depth=4, min_child_weight=10, n_estimators=100, subsample=1.0;, score=1.000 total time=   0.1s\n",
      "[CV 2/3] END colsample_bytree=1.0, gamma=1.5, learning_rate=0.05, max_depth=5, min_child_weight=10, n_estimators=200, subsample=0.8;, score=1.000 total time=   0.4s\n",
      "[CV 1/3] END colsample_bytree=0.6, gamma=1, learning_rate=0.01, max_depth=10, min_child_weight=7, n_estimators=100, subsample=0.6;, score=0.696 total time=   0.1s\n",
      "[CV 3/3] END colsample_bytree=0.6, gamma=1, learning_rate=0.01, max_depth=10, min_child_weight=7, n_estimators=100, subsample=0.6;, score=0.702 total time=   0.1s\n",
      "[CV 2/3] END colsample_bytree=0.6, gamma=1, learning_rate=0.01, max_depth=10, min_child_weight=7, n_estimators=100, subsample=0.6;, score=0.681 total time=   0.2s\n",
      "[CV 3/3] END colsample_bytree=1.0, gamma=1.5, learning_rate=0.05, max_depth=5, min_child_weight=10, n_estimators=200, subsample=0.8;, score=1.000 total time=   0.5s\n",
      "[CV 1/3] END colsample_bytree=1.0, gamma=1.5, learning_rate=0.1, max_depth=5, min_child_weight=7, n_estimators=500, subsample=1.0;, score=1.000 total time=   1.3s\n",
      "[CV 2/3] END colsample_bytree=1.0, gamma=1.5, learning_rate=0.1, max_depth=5, min_child_weight=7, n_estimators=500, subsample=1.0;, score=1.000 total time=   1.2s\n",
      "[CV 3/3] END colsample_bytree=1.0, gamma=1.5, learning_rate=0.1, max_depth=5, min_child_weight=7, n_estimators=500, subsample=1.0;, score=1.000 total time=   1.3s\n",
      "[CV 2/3] END colsample_bytree=0.6, gamma=1, learning_rate=0.02, max_depth=4, min_child_weight=1, n_estimators=500, subsample=0.8;, score=1.000 total time=   0.6s\n",
      "[CV 1/3] END colsample_bytree=1.0, gamma=1, learning_rate=0.25, max_depth=4, min_child_weight=5, n_estimators=100, subsample=1.0;, score=1.000 total time=   0.2s\n",
      "[CV 2/3] END colsample_bytree=1.0, gamma=1, learning_rate=0.25, max_depth=4, min_child_weight=5, n_estimators=100, subsample=1.0;, score=1.000 total time=   0.2s\n",
      "[CV 3/3] END colsample_bytree=0.6, gamma=1, learning_rate=0.02, max_depth=4, min_child_weight=1, n_estimators=500, subsample=0.8;, score=1.000 total time=   0.6s\n",
      "[CV 1/3] END colsample_bytree=0.6, gamma=5, learning_rate=0.02, max_depth=12, min_child_weight=7, n_estimators=100, subsample=1.0;, score=0.959 total time=   0.1s\n",
      "[CV 1/3] END colsample_bytree=0.6, gamma=1, learning_rate=0.02, max_depth=4, min_child_weight=1, n_estimators=500, subsample=0.8;, score=1.000 total time=   0.8s\n",
      "[CV 3/3] END colsample_bytree=1.0, gamma=1, learning_rate=0.25, max_depth=4, min_child_weight=5, n_estimators=100, subsample=1.0;, score=1.000 total time=   0.2s\n",
      "[CV 3/3] END colsample_bytree=0.6, gamma=5, learning_rate=0.02, max_depth=12, min_child_weight=7, n_estimators=100, subsample=1.0;, score=0.960 total time=   0.1s\n",
      "[CV 1/3] END colsample_bytree=0.6, gamma=0.5, learning_rate=0.1, max_depth=5, min_child_weight=1, n_estimators=750, subsample=1.0;, score=1.000 total time=   0.9s\n",
      "[CV 2/3] END colsample_bytree=0.6, gamma=0.5, learning_rate=0.1, max_depth=5, min_child_weight=1, n_estimators=750, subsample=1.0;, score=1.000 total time=   1.0s\n",
      "[CV 2/3] END colsample_bytree=0.6, gamma=5, learning_rate=0.02, max_depth=12, min_child_weight=7, n_estimators=100, subsample=1.0;, score=0.956 total time=   0.3s\n",
      "[CV 1/3] END colsample_bytree=0.8, gamma=0.1, learning_rate=0.1, max_depth=3, min_child_weight=5, n_estimators=200, subsample=0.8;, score=1.000 total time=   0.2s\n",
      "[CV 3/3] END colsample_bytree=0.6, gamma=0.5, learning_rate=0.1, max_depth=5, min_child_weight=1, n_estimators=750, subsample=1.0;, score=1.000 total time=   1.0s\n",
      "[CV 2/3] END colsample_bytree=0.8, gamma=0.1, learning_rate=0.1, max_depth=3, min_child_weight=5, n_estimators=200, subsample=0.8;, score=1.000 total time=   0.2s\n",
      "[CV 3/3] END colsample_bytree=0.8, gamma=0.1, learning_rate=0.1, max_depth=3, min_child_weight=5, n_estimators=200, subsample=0.8;, score=1.000 total time=   0.2s\n",
      "[CV 1/3] END colsample_bytree=0.6, gamma=0.1, learning_rate=0.02, max_depth=10, min_child_weight=1, n_estimators=500, subsample=0.8;, score=1.000 total time=   0.7s\n",
      "[CV 2/3] END colsample_bytree=0.6, gamma=0.1, learning_rate=0.02, max_depth=10, min_child_weight=1, n_estimators=500, subsample=0.8;, score=1.000 total time=   0.7s\n",
      "[CV 1/3] END colsample_bytree=1.0, gamma=0.5, learning_rate=0.1, max_depth=4, min_child_weight=5, n_estimators=500, subsample=0.6;, score=1.000 total time=   0.7s\n",
      "[CV 3/3] END colsample_bytree=0.6, gamma=0.1, learning_rate=0.02, max_depth=10, min_child_weight=1, n_estimators=500, subsample=0.8;, score=1.000 total time=   0.7s\n",
      "[CV 1/3] END colsample_bytree=0.6, gamma=5, learning_rate=0.25, max_depth=5, min_child_weight=10, n_estimators=100, subsample=0.6;, score=1.000 total time=   0.1s\n",
      "[CV 2/3] END colsample_bytree=0.6, gamma=5, learning_rate=0.25, max_depth=5, min_child_weight=10, n_estimators=100, subsample=0.6;, score=1.000 total time=   0.1s\n",
      "[CV 2/3] END colsample_bytree=1.0, gamma=0.5, learning_rate=0.1, max_depth=4, min_child_weight=5, n_estimators=500, subsample=0.6;, score=1.000 total time=   0.8s\n",
      "[CV 1/3] END colsample_bytree=1.0, gamma=0.1, learning_rate=0.05, max_depth=10, min_child_weight=10, n_estimators=500, subsample=0.6;, score=1.000 total time=   0.8s\n",
      "[CV 2/3] END colsample_bytree=1.0, gamma=0.1, learning_rate=0.05, max_depth=10, min_child_weight=10, n_estimators=500, subsample=0.6;, score=1.000 total time=   0.8s\n",
      "[CV 3/3] END colsample_bytree=0.6, gamma=5, learning_rate=0.25, max_depth=5, min_child_weight=10, n_estimators=100, subsample=0.6;, score=1.000 total time=   0.2s\n",
      "[CV 3/3] END colsample_bytree=1.0, gamma=0.5, learning_rate=0.1, max_depth=4, min_child_weight=5, n_estimators=500, subsample=0.6;, score=1.000 total time=   1.0s\n",
      "[CV 2/3] END colsample_bytree=0.8, gamma=0.1, learning_rate=0.01, max_depth=10, min_child_weight=10, n_estimators=200, subsample=0.8;, score=0.955 total time=   0.4s\n",
      "[CV 1/3] END colsample_bytree=0.8, gamma=0.1, learning_rate=0.01, max_depth=10, min_child_weight=10, n_estimators=200, subsample=0.8;, score=0.958 total time=   0.4s\n",
      "[CV 3/3] END colsample_bytree=0.8, gamma=0.1, learning_rate=0.01, max_depth=10, min_child_weight=10, n_estimators=200, subsample=0.8;, score=0.958 total time=   0.4s\n",
      "[CV 3/3] END colsample_bytree=1.0, gamma=0.1, learning_rate=0.05, max_depth=10, min_child_weight=10, n_estimators=500, subsample=0.6;, score=1.000 total time=   0.8s\n",
      "[CV 1/3] END colsample_bytree=0.8, gamma=0.5, learning_rate=0.25, max_depth=12, min_child_weight=10, n_estimators=200, subsample=0.8;, score=1.000 total time=   0.4s\n",
      "[CV 2/3] END colsample_bytree=0.8, gamma=0.5, learning_rate=0.25, max_depth=12, min_child_weight=10, n_estimators=200, subsample=0.8;, score=1.000 total time=   0.4s\n",
      "[CV 3/3] END colsample_bytree=0.8, gamma=0.5, learning_rate=0.25, max_depth=12, min_child_weight=10, n_estimators=200, subsample=0.8;, score=1.000 total time=   0.6s\n",
      "[CV 1/3] END colsample_bytree=1.0, gamma=1, learning_rate=0.1, max_depth=10, min_child_weight=1, n_estimators=100, subsample=0.8;, score=1.000 total time=   0.3s\n",
      "[CV 1/3] END colsample_bytree=0.6, gamma=1, learning_rate=0.25, max_depth=12, min_child_weight=1, n_estimators=750, subsample=0.6;, score=1.000 total time=   1.2s\n",
      "[CV 2/3] END colsample_bytree=0.6, gamma=1, learning_rate=0.25, max_depth=12, min_child_weight=1, n_estimators=750, subsample=0.6;, score=1.000 total time=   1.1s\n",
      "[CV 3/3] END colsample_bytree=0.6, gamma=1, learning_rate=0.25, max_depth=12, min_child_weight=1, n_estimators=750, subsample=0.6;, score=1.000 total time=   1.1s\n",
      "[CV 2/3] END colsample_bytree=1.0, gamma=1, learning_rate=0.1, max_depth=10, min_child_weight=1, n_estimators=100, subsample=0.8;, score=1.000 total time=   0.3s\n",
      "[CV 3/3] END colsample_bytree=1.0, gamma=1, learning_rate=0.1, max_depth=10, min_child_weight=1, n_estimators=100, subsample=0.8;, score=1.000 total time=   0.3s\n",
      "[CV 1/3] END colsample_bytree=0.8, gamma=5, learning_rate=0.25, max_depth=4, min_child_weight=7, n_estimators=200, subsample=1.0;, score=1.000 total time=   0.3s\n",
      "[CV 2/3] END colsample_bytree=0.6, gamma=1, learning_rate=0.01, max_depth=4, min_child_weight=1, n_estimators=500, subsample=0.6;, score=1.000 total time=   0.5s\n",
      "[CV 1/3] END colsample_bytree=0.6, gamma=1, learning_rate=0.01, max_depth=4, min_child_weight=1, n_estimators=500, subsample=0.6;, score=1.000 total time=   0.6s\n",
      "[CV 3/3] END colsample_bytree=0.6, gamma=1, learning_rate=0.01, max_depth=4, min_child_weight=1, n_estimators=500, subsample=0.6;, score=1.000 total time=   0.6s\n",
      "[CV 2/3] END colsample_bytree=0.8, gamma=5, learning_rate=0.25, max_depth=4, min_child_weight=7, n_estimators=200, subsample=1.0;, score=1.000 total time=   0.3s\n",
      "[CV 3/3] END colsample_bytree=0.8, gamma=5, learning_rate=0.25, max_depth=4, min_child_weight=7, n_estimators=200, subsample=1.0;, score=1.000 total time=   0.3s\n",
      "[CV 2/3] END colsample_bytree=1.0, gamma=0.1, learning_rate=0.25, max_depth=5, min_child_weight=1, n_estimators=750, subsample=1.0;, score=1.000 total time=   1.6s\n",
      "[CV 3/3] END colsample_bytree=1.0, gamma=0.1, learning_rate=0.25, max_depth=5, min_child_weight=1, n_estimators=750, subsample=1.0;, score=1.000 total time=   1.7s\n",
      "[CV 1/3] END colsample_bytree=1.0, gamma=0.1, learning_rate=0.25, max_depth=5, min_child_weight=1, n_estimators=750, subsample=1.0;, score=1.000 total time=   1.9s\n",
      "[CV 1/3] END colsample_bytree=0.8, gamma=5, learning_rate=0.01, max_depth=10, min_child_weight=5, n_estimators=750, subsample=0.6;, score=1.000 total time=   1.2s\n",
      "[CV 2/3] END colsample_bytree=0.8, gamma=5, learning_rate=0.01, max_depth=10, min_child_weight=5, n_estimators=750, subsample=0.6;, score=1.000 total time=   1.2s\n",
      "[CV 1/3] END colsample_bytree=0.8, gamma=1.5, learning_rate=0.01, max_depth=10, min_child_weight=5, n_estimators=500, subsample=0.6;, score=1.000 total time=   0.8s\n",
      "[CV 2/3] END colsample_bytree=0.8, gamma=1.5, learning_rate=0.01, max_depth=10, min_child_weight=5, n_estimators=500, subsample=0.6;, score=1.000 total time=   0.8s\n",
      "[CV 2/3] END colsample_bytree=1.0, gamma=0.5, learning_rate=0.1, max_depth=5, min_child_weight=5, n_estimators=750, subsample=1.0;, score=1.000 total time=   1.6s\n",
      "[CV 2/3] END colsample_bytree=0.6, gamma=5, learning_rate=0.02, max_depth=3, min_child_weight=5, n_estimators=200, subsample=0.8;, score=0.999 total time=   0.2s\n",
      "[CV 1/3] END colsample_bytree=0.6, gamma=5, learning_rate=0.02, max_depth=3, min_child_weight=5, n_estimators=200, subsample=0.8;, score=0.999 total time=   0.2s\n",
      "[CV 3/3] END colsample_bytree=0.6, gamma=5, learning_rate=0.02, max_depth=3, min_child_weight=5, n_estimators=200, subsample=0.8;, score=0.999 total time=   0.2s\n",
      "[CV 1/3] END colsample_bytree=1.0, gamma=0.5, learning_rate=0.1, max_depth=5, min_child_weight=5, n_estimators=750, subsample=1.0;, score=1.000 total time=   1.9s\n",
      "[CV 3/3] END colsample_bytree=1.0, gamma=0.5, learning_rate=0.1, max_depth=5, min_child_weight=5, n_estimators=750, subsample=1.0;, score=1.000 total time=   1.9s\n",
      "[CV 3/3] END colsample_bytree=0.8, gamma=5, learning_rate=0.01, max_depth=10, min_child_weight=5, n_estimators=750, subsample=0.6;, score=1.000 total time=   1.4s\n",
      "[CV 3/3] END colsample_bytree=0.8, gamma=1.5, learning_rate=0.01, max_depth=10, min_child_weight=5, n_estimators=500, subsample=0.6;, score=1.000 total time=   0.8s\n",
      "[CV 1/3] END colsample_bytree=1.0, gamma=1, learning_rate=0.05, max_depth=4, min_child_weight=5, n_estimators=500, subsample=1.0;, score=1.000 total time=   0.9s\n",
      "[CV 2/3] END colsample_bytree=1.0, gamma=1, learning_rate=0.05, max_depth=4, min_child_weight=5, n_estimators=500, subsample=1.0;, score=1.000 total time=   0.9s\n",
      "[CV 3/3] END colsample_bytree=1.0, gamma=1, learning_rate=0.05, max_depth=4, min_child_weight=5, n_estimators=500, subsample=1.0;, score=1.000 total time=   1.1s\n",
      "[CV 1/3] END colsample_bytree=1.0, gamma=5, learning_rate=0.05, max_depth=5, min_child_weight=10, n_estimators=100, subsample=0.6;, score=1.000 total time=   0.2s\n",
      "[CV 1/3] END colsample_bytree=0.8, gamma=0.5, learning_rate=0.1, max_depth=10, min_child_weight=10, n_estimators=750, subsample=0.8;, score=1.000 total time=   1.2s\n",
      "[CV 2/3] END colsample_bytree=1.0, gamma=5, learning_rate=0.05, max_depth=5, min_child_weight=10, n_estimators=100, subsample=0.6;, score=1.000 total time=   0.2s\n",
      "[CV 3/3] END colsample_bytree=1.0, gamma=5, learning_rate=0.05, max_depth=5, min_child_weight=10, n_estimators=100, subsample=0.6;, score=1.000 total time=   0.2s\n",
      "[CV 1/3] END colsample_bytree=1.0, gamma=0.5, learning_rate=0.05, max_depth=4, min_child_weight=10, n_estimators=750, subsample=0.6;, score=1.000 total time=   1.2s\n",
      "[CV 3/3] END colsample_bytree=0.8, gamma=0.5, learning_rate=0.1, max_depth=10, min_child_weight=10, n_estimators=750, subsample=0.8;, score=1.000 total time=   1.3s\n",
      "[CV 2/3] END colsample_bytree=0.8, gamma=0.5, learning_rate=0.1, max_depth=10, min_child_weight=10, n_estimators=750, subsample=0.8;, score=1.000 total time=   1.3s\n",
      "[CV 2/3] END colsample_bytree=1.0, gamma=0.5, learning_rate=0.05, max_depth=4, min_child_weight=10, n_estimators=750, subsample=0.6;, score=1.000 total time=   1.1s\n",
      "[CV 1/3] END colsample_bytree=0.6, gamma=0.1, learning_rate=0.05, max_depth=3, min_child_weight=5, n_estimators=750, subsample=0.8;, score=1.000 total time=   0.5s\n",
      "[CV 2/3] END colsample_bytree=0.6, gamma=0.1, learning_rate=0.05, max_depth=3, min_child_weight=5, n_estimators=750, subsample=0.8;, score=1.000 total time=   0.5s\n",
      "[CV 3/3] END colsample_bytree=0.6, gamma=0.1, learning_rate=0.05, max_depth=3, min_child_weight=5, n_estimators=750, subsample=0.8;, score=1.000 total time=   0.5s\n",
      "[CV 3/3] END colsample_bytree=1.0, gamma=0.5, learning_rate=0.05, max_depth=4, min_child_weight=10, n_estimators=750, subsample=0.6;, score=1.000 total time=   1.1s\n"
     ]
    },
    {
     "data": {
      "text/html": [
       "<style>#sk-container-id-2 {color: black;background-color: white;}#sk-container-id-2 pre{padding: 0;}#sk-container-id-2 div.sk-toggleable {background-color: white;}#sk-container-id-2 label.sk-toggleable__label {cursor: pointer;display: block;width: 100%;margin-bottom: 0;padding: 0.3em;box-sizing: border-box;text-align: center;}#sk-container-id-2 label.sk-toggleable__label-arrow:before {content: \"▸\";float: left;margin-right: 0.25em;color: #696969;}#sk-container-id-2 label.sk-toggleable__label-arrow:hover:before {color: black;}#sk-container-id-2 div.sk-estimator:hover label.sk-toggleable__label-arrow:before {color: black;}#sk-container-id-2 div.sk-toggleable__content {max-height: 0;max-width: 0;overflow: hidden;text-align: left;background-color: #f0f8ff;}#sk-container-id-2 div.sk-toggleable__content pre {margin: 0.2em;color: black;border-radius: 0.25em;background-color: #f0f8ff;}#sk-container-id-2 input.sk-toggleable__control:checked~div.sk-toggleable__content {max-height: 200px;max-width: 100%;overflow: auto;}#sk-container-id-2 input.sk-toggleable__control:checked~label.sk-toggleable__label-arrow:before {content: \"▾\";}#sk-container-id-2 div.sk-estimator input.sk-toggleable__control:checked~label.sk-toggleable__label {background-color: #d4ebff;}#sk-container-id-2 div.sk-label input.sk-toggleable__control:checked~label.sk-toggleable__label {background-color: #d4ebff;}#sk-container-id-2 input.sk-hidden--visually {border: 0;clip: rect(1px 1px 1px 1px);clip: rect(1px, 1px, 1px, 1px);height: 1px;margin: -1px;overflow: hidden;padding: 0;position: absolute;width: 1px;}#sk-container-id-2 div.sk-estimator {font-family: monospace;background-color: #f0f8ff;border: 1px dotted black;border-radius: 0.25em;box-sizing: border-box;margin-bottom: 0.5em;}#sk-container-id-2 div.sk-estimator:hover {background-color: #d4ebff;}#sk-container-id-2 div.sk-parallel-item::after {content: \"\";width: 100%;border-bottom: 1px solid gray;flex-grow: 1;}#sk-container-id-2 div.sk-label:hover label.sk-toggleable__label {background-color: #d4ebff;}#sk-container-id-2 div.sk-serial::before {content: \"\";position: absolute;border-left: 1px solid gray;box-sizing: border-box;top: 0;bottom: 0;left: 50%;z-index: 0;}#sk-container-id-2 div.sk-serial {display: flex;flex-direction: column;align-items: center;background-color: white;padding-right: 0.2em;padding-left: 0.2em;position: relative;}#sk-container-id-2 div.sk-item {position: relative;z-index: 1;}#sk-container-id-2 div.sk-parallel {display: flex;align-items: stretch;justify-content: center;background-color: white;position: relative;}#sk-container-id-2 div.sk-item::before, #sk-container-id-2 div.sk-parallel-item::before {content: \"\";position: absolute;border-left: 1px solid gray;box-sizing: border-box;top: 0;bottom: 0;left: 50%;z-index: -1;}#sk-container-id-2 div.sk-parallel-item {display: flex;flex-direction: column;z-index: 1;position: relative;background-color: white;}#sk-container-id-2 div.sk-parallel-item:first-child::after {align-self: flex-end;width: 50%;}#sk-container-id-2 div.sk-parallel-item:last-child::after {align-self: flex-start;width: 50%;}#sk-container-id-2 div.sk-parallel-item:only-child::after {width: 0;}#sk-container-id-2 div.sk-dashed-wrapped {border: 1px dashed gray;margin: 0 0.4em 0.5em 0.4em;box-sizing: border-box;padding-bottom: 0.4em;background-color: white;}#sk-container-id-2 div.sk-label label {font-family: monospace;font-weight: bold;display: inline-block;line-height: 1.2em;}#sk-container-id-2 div.sk-label-container {text-align: center;}#sk-container-id-2 div.sk-container {/* jupyter's `normalize.less` sets `[hidden] { display: none; }` but bootstrap.min.css set `[hidden] { display: none !important; }` so we also need the `!important` here to be able to override the default hidden behavior on the sphinx rendered scikit-learn.org. See: https://github.com/scikit-learn/scikit-learn/issues/21755 */display: inline-block !important;position: relative;}#sk-container-id-2 div.sk-text-repr-fallback {display: none;}</style><div id=\"sk-container-id-2\" class=\"sk-top-container\"><div class=\"sk-text-repr-fallback\"><pre>RandomizedSearchCV(cv=3,\n",
       "                   estimator=XGBRegressor(alpha=10, base_score=None,\n",
       "                                          booster=None, callbacks=None,\n",
       "                                          colsample_bylevel=None,\n",
       "                                          colsample_bynode=None,\n",
       "                                          colsample_bytree=0.3,\n",
       "                                          early_stopping_rounds=None,\n",
       "                                          enable_categorical=False,\n",
       "                                          eval_metric=None, feature_types=None,\n",
       "                                          gamma=None, gpu_id=None,\n",
       "                                          grow_policy=None,\n",
       "                                          importance_type=None,\n",
       "                                          interaction_constraints=None,\n",
       "                                          learni...\n",
       "                                          n_estimators=10, n_jobs=None,\n",
       "                                          num_parallel_tree=None,\n",
       "                                          predictor=None, ...),\n",
       "                   n_iter=100, n_jobs=-1,\n",
       "                   param_distributions={&#x27;colsample_bytree&#x27;: [0.6, 0.8, 1.0],\n",
       "                                        &#x27;gamma&#x27;: [0.1, 0.5, 1, 1.5, 5],\n",
       "                                        &#x27;learning_rate&#x27;: [0.01, 0.02, 0.05, 0.1,\n",
       "                                                          0.25],\n",
       "                                        &#x27;max_depth&#x27;: [3, 4, 5, 10, 12],\n",
       "                                        &#x27;min_child_weight&#x27;: [1, 5, 7, 10],\n",
       "                                        &#x27;n_estimators&#x27;: [100, 200, 500, 750],\n",
       "                                        &#x27;subsample&#x27;: [0.6, 0.8, 1.0]},\n",
       "                   random_state=42, verbose=3)</pre><b>In a Jupyter environment, please rerun this cell to show the HTML representation or trust the notebook. <br />On GitHub, the HTML representation is unable to render, please try loading this page with nbviewer.org.</b></div><div class=\"sk-container\" hidden><div class=\"sk-item sk-dashed-wrapped\"><div class=\"sk-label-container\"><div class=\"sk-label sk-toggleable\"><input class=\"sk-toggleable__control sk-hidden--visually\" id=\"sk-estimator-id-2\" type=\"checkbox\" ><label for=\"sk-estimator-id-2\" class=\"sk-toggleable__label sk-toggleable__label-arrow\">RandomizedSearchCV</label><div class=\"sk-toggleable__content\"><pre>RandomizedSearchCV(cv=3,\n",
       "                   estimator=XGBRegressor(alpha=10, base_score=None,\n",
       "                                          booster=None, callbacks=None,\n",
       "                                          colsample_bylevel=None,\n",
       "                                          colsample_bynode=None,\n",
       "                                          colsample_bytree=0.3,\n",
       "                                          early_stopping_rounds=None,\n",
       "                                          enable_categorical=False,\n",
       "                                          eval_metric=None, feature_types=None,\n",
       "                                          gamma=None, gpu_id=None,\n",
       "                                          grow_policy=None,\n",
       "                                          importance_type=None,\n",
       "                                          interaction_constraints=None,\n",
       "                                          learni...\n",
       "                                          n_estimators=10, n_jobs=None,\n",
       "                                          num_parallel_tree=None,\n",
       "                                          predictor=None, ...),\n",
       "                   n_iter=100, n_jobs=-1,\n",
       "                   param_distributions={&#x27;colsample_bytree&#x27;: [0.6, 0.8, 1.0],\n",
       "                                        &#x27;gamma&#x27;: [0.1, 0.5, 1, 1.5, 5],\n",
       "                                        &#x27;learning_rate&#x27;: [0.01, 0.02, 0.05, 0.1,\n",
       "                                                          0.25],\n",
       "                                        &#x27;max_depth&#x27;: [3, 4, 5, 10, 12],\n",
       "                                        &#x27;min_child_weight&#x27;: [1, 5, 7, 10],\n",
       "                                        &#x27;n_estimators&#x27;: [100, 200, 500, 750],\n",
       "                                        &#x27;subsample&#x27;: [0.6, 0.8, 1.0]},\n",
       "                   random_state=42, verbose=3)</pre></div></div></div><div class=\"sk-parallel\"><div class=\"sk-parallel-item\"><div class=\"sk-item\"><div class=\"sk-label-container\"><div class=\"sk-label sk-toggleable\"><input class=\"sk-toggleable__control sk-hidden--visually\" id=\"sk-estimator-id-3\" type=\"checkbox\" ><label for=\"sk-estimator-id-3\" class=\"sk-toggleable__label sk-toggleable__label-arrow\">estimator: XGBRegressor</label><div class=\"sk-toggleable__content\"><pre>XGBRegressor(alpha=10, base_score=None, booster=None, callbacks=None,\n",
       "             colsample_bylevel=None, colsample_bynode=None,\n",
       "             colsample_bytree=0.3, early_stopping_rounds=None,\n",
       "             enable_categorical=False, eval_metric=None, feature_types=None,\n",
       "             gamma=None, gpu_id=None, grow_policy=None, importance_type=None,\n",
       "             interaction_constraints=None, learning_rate=0.1, max_bin=None,\n",
       "             max_cat_threshold=None, max_cat_to_onehot=None,\n",
       "             max_delta_step=None, max_depth=5, max_leaves=None,\n",
       "             min_child_weight=None, missing=nan, monotone_constraints=None,\n",
       "             n_estimators=10, n_jobs=None, num_parallel_tree=None,\n",
       "             predictor=None, ...)</pre></div></div></div><div class=\"sk-serial\"><div class=\"sk-item\"><div class=\"sk-estimator sk-toggleable\"><input class=\"sk-toggleable__control sk-hidden--visually\" id=\"sk-estimator-id-4\" type=\"checkbox\" ><label for=\"sk-estimator-id-4\" class=\"sk-toggleable__label sk-toggleable__label-arrow\">XGBRegressor</label><div class=\"sk-toggleable__content\"><pre>XGBRegressor(alpha=10, base_score=None, booster=None, callbacks=None,\n",
       "             colsample_bylevel=None, colsample_bynode=None,\n",
       "             colsample_bytree=0.3, early_stopping_rounds=None,\n",
       "             enable_categorical=False, eval_metric=None, feature_types=None,\n",
       "             gamma=None, gpu_id=None, grow_policy=None, importance_type=None,\n",
       "             interaction_constraints=None, learning_rate=0.1, max_bin=None,\n",
       "             max_cat_threshold=None, max_cat_to_onehot=None,\n",
       "             max_delta_step=None, max_depth=5, max_leaves=None,\n",
       "             min_child_weight=None, missing=nan, monotone_constraints=None,\n",
       "             n_estimators=10, n_jobs=None, num_parallel_tree=None,\n",
       "             predictor=None, ...)</pre></div></div></div></div></div></div></div></div></div></div>"
      ],
      "text/plain": [
       "RandomizedSearchCV(cv=3,\n",
       "                   estimator=XGBRegressor(alpha=10, base_score=None,\n",
       "                                          booster=None, callbacks=None,\n",
       "                                          colsample_bylevel=None,\n",
       "                                          colsample_bynode=None,\n",
       "                                          colsample_bytree=0.3,\n",
       "                                          early_stopping_rounds=None,\n",
       "                                          enable_categorical=False,\n",
       "                                          eval_metric=None, feature_types=None,\n",
       "                                          gamma=None, gpu_id=None,\n",
       "                                          grow_policy=None,\n",
       "                                          importance_type=None,\n",
       "                                          interaction_constraints=None,\n",
       "                                          learni...\n",
       "                                          n_estimators=10, n_jobs=None,\n",
       "                                          num_parallel_tree=None,\n",
       "                                          predictor=None, ...),\n",
       "                   n_iter=100, n_jobs=-1,\n",
       "                   param_distributions={'colsample_bytree': [0.6, 0.8, 1.0],\n",
       "                                        'gamma': [0.1, 0.5, 1, 1.5, 5],\n",
       "                                        'learning_rate': [0.01, 0.02, 0.05, 0.1,\n",
       "                                                          0.25],\n",
       "                                        'max_depth': [3, 4, 5, 10, 12],\n",
       "                                        'min_child_weight': [1, 5, 7, 10],\n",
       "                                        'n_estimators': [100, 200, 500, 750],\n",
       "                                        'subsample': [0.6, 0.8, 1.0]},\n",
       "                   random_state=42, verbose=3)"
      ]
     },
     "execution_count": 100,
     "metadata": {},
     "output_type": "execute_result"
    }
   ],
   "source": [
    "random_search.fit(X_train, y_train)"
   ]
  },
  {
   "cell_type": "code",
   "execution_count": 101,
   "metadata": {},
   "outputs": [],
   "source": [
    "pred_hpt = random_search.predict(X_test)\n",
    "\n",
    "r2score = r2_score(pred_hpt,y_test)"
   ]
  },
  {
   "cell_type": "code",
   "execution_count": 102,
   "metadata": {},
   "outputs": [
    {
     "data": {
      "text/plain": [
       "0.9999183097601645"
      ]
     },
     "execution_count": 102,
     "metadata": {},
     "output_type": "execute_result"
    }
   ],
   "source": [
    "r2score"
   ]
  },
  {
   "cell_type": "code",
   "execution_count": 104,
   "metadata": {},
   "outputs": [
    {
     "data": {
      "text/plain": [
       "0.18585081202538994"
      ]
     },
     "execution_count": 104,
     "metadata": {},
     "output_type": "execute_result"
    }
   ],
   "source": [
    "mse = mean_squared_error(y_test, pred_hpt)\n",
    "mse"
   ]
  }
 ],
 "metadata": {
  "kernelspec": {
   "display_name": "Python 3.10.7 64-bit",
   "language": "python",
   "name": "python3"
  },
  "language_info": {
   "codemirror_mode": {
    "name": "ipython",
    "version": 3
   },
   "file_extension": ".py",
   "mimetype": "text/x-python",
   "name": "python",
   "nbconvert_exporter": "python",
   "pygments_lexer": "ipython3",
   "version": "3.10.7"
  },
  "orig_nbformat": 4,
  "vscode": {
   "interpreter": {
    "hash": "aee8b7b246df8f9039afb4144a1f6fd8d2ca17a180786b69acc140d282b71a49"
   }
  }
 },
 "nbformat": 4,
 "nbformat_minor": 2
}
